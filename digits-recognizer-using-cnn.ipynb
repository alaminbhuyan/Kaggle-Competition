{
 "cells": [
  {
   "cell_type": "code",
   "execution_count": 1,
   "id": "5a3d239a",
   "metadata": {
    "_cell_guid": "b1076dfc-b9ad-4769-8c92-a6c4dae69d19",
    "_uuid": "8f2839f25d086af736a60e9eeb907d3b93b6e0e5",
    "execution": {
     "iopub.execute_input": "2022-09-08T10:00:15.166084Z",
     "iopub.status.busy": "2022-09-08T10:00:15.165315Z",
     "iopub.status.idle": "2022-09-08T10:00:15.181119Z",
     "shell.execute_reply": "2022-09-08T10:00:15.179841Z"
    },
    "papermill": {
     "duration": 0.042994,
     "end_time": "2022-09-08T10:00:15.184202",
     "exception": false,
     "start_time": "2022-09-08T10:00:15.141208",
     "status": "completed"
    },
    "tags": []
   },
   "outputs": [
    {
     "name": "stdout",
     "output_type": "stream",
     "text": [
      "/kaggle/input/digit-recognizer/sample_submission.csv\n",
      "/kaggle/input/digit-recognizer/train.csv\n",
      "/kaggle/input/digit-recognizer/test.csv\n"
     ]
    }
   ],
   "source": [
    "# This Python 3 environment comes with many helpful analytics libraries installed\n",
    "# It is defined by the kaggle/python Docker image: https://github.com/kaggle/docker-python\n",
    "# For example, here's several helpful packages to load\n",
    "\n",
    "import numpy as np # linear algebra\n",
    "import pandas as pd # data processing, CSV file I/O (e.g. pd.read_csv)\n",
    "\n",
    "# Input data files are available in the read-only \"../input/\" directory\n",
    "# For example, running this (by clicking run or pressing Shift+Enter) will list all files under the input directory\n",
    "\n",
    "import os\n",
    "for dirname, _, filenames in os.walk('/kaggle/input'):\n",
    "    for filename in filenames:\n",
    "        print(os.path.join(dirname, filename))\n",
    "\n",
    "# You can write up to 20GB to the current directory (/kaggle/working/) that gets preserved as output when you create a version using \"Save & Run All\" \n",
    "# You can also write temporary files to /kaggle/temp/, but they won't be saved outside of the current session"
   ]
  },
  {
   "cell_type": "code",
   "execution_count": 2,
   "id": "673118c6",
   "metadata": {
    "execution": {
     "iopub.execute_input": "2022-09-08T10:00:15.213979Z",
     "iopub.status.busy": "2022-09-08T10:00:15.213185Z",
     "iopub.status.idle": "2022-09-08T10:00:24.485991Z",
     "shell.execute_reply": "2022-09-08T10:00:24.484582Z"
    },
    "papermill": {
     "duration": 9.291254,
     "end_time": "2022-09-08T10:00:24.489277",
     "exception": false,
     "start_time": "2022-09-08T10:00:15.198023",
     "status": "completed"
    },
    "tags": []
   },
   "outputs": [],
   "source": [
    "import matplotlib.pyplot as plt\n",
    "import seaborn as sns\n",
    "from sklearn.model_selection import train_test_split\n",
    "\n",
    "import tensorflow as tf\n",
    "from tensorflow import keras\n",
    "from tensorflow.keras.utils import to_categorical\n",
    "from tensorflow.keras import Sequential\n",
    "from tensorflow.keras.layers import Dense, Dropout, Flatten, Conv2D, MaxPooling2D"
   ]
  },
  {
   "cell_type": "code",
   "execution_count": 3,
   "id": "fa38fe55",
   "metadata": {
    "execution": {
     "iopub.execute_input": "2022-09-08T10:00:24.521775Z",
     "iopub.status.busy": "2022-09-08T10:00:24.520487Z",
     "iopub.status.idle": "2022-09-08T10:00:29.927619Z",
     "shell.execute_reply": "2022-09-08T10:00:29.926587Z"
    },
    "papermill": {
     "duration": 5.427703,
     "end_time": "2022-09-08T10:00:29.931005",
     "exception": false,
     "start_time": "2022-09-08T10:00:24.503302",
     "status": "completed"
    },
    "tags": []
   },
   "outputs": [],
   "source": [
    "train_df = pd.read_csv(\"/kaggle/input/digit-recognizer/train.csv\")\n",
    "test_df = pd.read_csv(\"/kaggle/input/digit-recognizer/test.csv\")\n",
    "submission_df = pd.read_csv(\"/kaggle/input/digit-recognizer/sample_submission.csv\")"
   ]
  },
  {
   "cell_type": "code",
   "execution_count": 4,
   "id": "64f6f6dd",
   "metadata": {
    "execution": {
     "iopub.execute_input": "2022-09-08T10:00:29.962014Z",
     "iopub.status.busy": "2022-09-08T10:00:29.961612Z",
     "iopub.status.idle": "2022-09-08T10:00:29.992288Z",
     "shell.execute_reply": "2022-09-08T10:00:29.991013Z"
    },
    "papermill": {
     "duration": 0.049422,
     "end_time": "2022-09-08T10:00:29.994959",
     "exception": false,
     "start_time": "2022-09-08T10:00:29.945537",
     "status": "completed"
    },
    "tags": []
   },
   "outputs": [
    {
     "data": {
      "text/html": [
       "<div>\n",
       "<style scoped>\n",
       "    .dataframe tbody tr th:only-of-type {\n",
       "        vertical-align: middle;\n",
       "    }\n",
       "\n",
       "    .dataframe tbody tr th {\n",
       "        vertical-align: top;\n",
       "    }\n",
       "\n",
       "    .dataframe thead th {\n",
       "        text-align: right;\n",
       "    }\n",
       "</style>\n",
       "<table border=\"1\" class=\"dataframe\">\n",
       "  <thead>\n",
       "    <tr style=\"text-align: right;\">\n",
       "      <th></th>\n",
       "      <th>label</th>\n",
       "      <th>pixel0</th>\n",
       "      <th>pixel1</th>\n",
       "      <th>pixel2</th>\n",
       "      <th>pixel3</th>\n",
       "      <th>pixel4</th>\n",
       "      <th>pixel5</th>\n",
       "      <th>pixel6</th>\n",
       "      <th>pixel7</th>\n",
       "      <th>pixel8</th>\n",
       "      <th>...</th>\n",
       "      <th>pixel774</th>\n",
       "      <th>pixel775</th>\n",
       "      <th>pixel776</th>\n",
       "      <th>pixel777</th>\n",
       "      <th>pixel778</th>\n",
       "      <th>pixel779</th>\n",
       "      <th>pixel780</th>\n",
       "      <th>pixel781</th>\n",
       "      <th>pixel782</th>\n",
       "      <th>pixel783</th>\n",
       "    </tr>\n",
       "  </thead>\n",
       "  <tbody>\n",
       "    <tr>\n",
       "      <th>0</th>\n",
       "      <td>1</td>\n",
       "      <td>0</td>\n",
       "      <td>0</td>\n",
       "      <td>0</td>\n",
       "      <td>0</td>\n",
       "      <td>0</td>\n",
       "      <td>0</td>\n",
       "      <td>0</td>\n",
       "      <td>0</td>\n",
       "      <td>0</td>\n",
       "      <td>...</td>\n",
       "      <td>0</td>\n",
       "      <td>0</td>\n",
       "      <td>0</td>\n",
       "      <td>0</td>\n",
       "      <td>0</td>\n",
       "      <td>0</td>\n",
       "      <td>0</td>\n",
       "      <td>0</td>\n",
       "      <td>0</td>\n",
       "      <td>0</td>\n",
       "    </tr>\n",
       "    <tr>\n",
       "      <th>1</th>\n",
       "      <td>0</td>\n",
       "      <td>0</td>\n",
       "      <td>0</td>\n",
       "      <td>0</td>\n",
       "      <td>0</td>\n",
       "      <td>0</td>\n",
       "      <td>0</td>\n",
       "      <td>0</td>\n",
       "      <td>0</td>\n",
       "      <td>0</td>\n",
       "      <td>...</td>\n",
       "      <td>0</td>\n",
       "      <td>0</td>\n",
       "      <td>0</td>\n",
       "      <td>0</td>\n",
       "      <td>0</td>\n",
       "      <td>0</td>\n",
       "      <td>0</td>\n",
       "      <td>0</td>\n",
       "      <td>0</td>\n",
       "      <td>0</td>\n",
       "    </tr>\n",
       "    <tr>\n",
       "      <th>2</th>\n",
       "      <td>1</td>\n",
       "      <td>0</td>\n",
       "      <td>0</td>\n",
       "      <td>0</td>\n",
       "      <td>0</td>\n",
       "      <td>0</td>\n",
       "      <td>0</td>\n",
       "      <td>0</td>\n",
       "      <td>0</td>\n",
       "      <td>0</td>\n",
       "      <td>...</td>\n",
       "      <td>0</td>\n",
       "      <td>0</td>\n",
       "      <td>0</td>\n",
       "      <td>0</td>\n",
       "      <td>0</td>\n",
       "      <td>0</td>\n",
       "      <td>0</td>\n",
       "      <td>0</td>\n",
       "      <td>0</td>\n",
       "      <td>0</td>\n",
       "    </tr>\n",
       "    <tr>\n",
       "      <th>3</th>\n",
       "      <td>4</td>\n",
       "      <td>0</td>\n",
       "      <td>0</td>\n",
       "      <td>0</td>\n",
       "      <td>0</td>\n",
       "      <td>0</td>\n",
       "      <td>0</td>\n",
       "      <td>0</td>\n",
       "      <td>0</td>\n",
       "      <td>0</td>\n",
       "      <td>...</td>\n",
       "      <td>0</td>\n",
       "      <td>0</td>\n",
       "      <td>0</td>\n",
       "      <td>0</td>\n",
       "      <td>0</td>\n",
       "      <td>0</td>\n",
       "      <td>0</td>\n",
       "      <td>0</td>\n",
       "      <td>0</td>\n",
       "      <td>0</td>\n",
       "    </tr>\n",
       "    <tr>\n",
       "      <th>4</th>\n",
       "      <td>0</td>\n",
       "      <td>0</td>\n",
       "      <td>0</td>\n",
       "      <td>0</td>\n",
       "      <td>0</td>\n",
       "      <td>0</td>\n",
       "      <td>0</td>\n",
       "      <td>0</td>\n",
       "      <td>0</td>\n",
       "      <td>0</td>\n",
       "      <td>...</td>\n",
       "      <td>0</td>\n",
       "      <td>0</td>\n",
       "      <td>0</td>\n",
       "      <td>0</td>\n",
       "      <td>0</td>\n",
       "      <td>0</td>\n",
       "      <td>0</td>\n",
       "      <td>0</td>\n",
       "      <td>0</td>\n",
       "      <td>0</td>\n",
       "    </tr>\n",
       "  </tbody>\n",
       "</table>\n",
       "<p>5 rows × 785 columns</p>\n",
       "</div>"
      ],
      "text/plain": [
       "   label  pixel0  pixel1  pixel2  pixel3  pixel4  pixel5  pixel6  pixel7  \\\n",
       "0      1       0       0       0       0       0       0       0       0   \n",
       "1      0       0       0       0       0       0       0       0       0   \n",
       "2      1       0       0       0       0       0       0       0       0   \n",
       "3      4       0       0       0       0       0       0       0       0   \n",
       "4      0       0       0       0       0       0       0       0       0   \n",
       "\n",
       "   pixel8  ...  pixel774  pixel775  pixel776  pixel777  pixel778  pixel779  \\\n",
       "0       0  ...         0         0         0         0         0         0   \n",
       "1       0  ...         0         0         0         0         0         0   \n",
       "2       0  ...         0         0         0         0         0         0   \n",
       "3       0  ...         0         0         0         0         0         0   \n",
       "4       0  ...         0         0         0         0         0         0   \n",
       "\n",
       "   pixel780  pixel781  pixel782  pixel783  \n",
       "0         0         0         0         0  \n",
       "1         0         0         0         0  \n",
       "2         0         0         0         0  \n",
       "3         0         0         0         0  \n",
       "4         0         0         0         0  \n",
       "\n",
       "[5 rows x 785 columns]"
      ]
     },
     "execution_count": 4,
     "metadata": {},
     "output_type": "execute_result"
    }
   ],
   "source": [
    "train_df.head()"
   ]
  },
  {
   "cell_type": "code",
   "execution_count": 5,
   "id": "1fa3e5b4",
   "metadata": {
    "execution": {
     "iopub.execute_input": "2022-09-08T10:00:30.024862Z",
     "iopub.status.busy": "2022-09-08T10:00:30.024438Z",
     "iopub.status.idle": "2022-09-08T10:00:30.032134Z",
     "shell.execute_reply": "2022-09-08T10:00:30.030709Z"
    },
    "papermill": {
     "duration": 0.025435,
     "end_time": "2022-09-08T10:00:30.034773",
     "exception": false,
     "start_time": "2022-09-08T10:00:30.009338",
     "status": "completed"
    },
    "tags": []
   },
   "outputs": [
    {
     "data": {
      "text/plain": [
       "(42000, 785)"
      ]
     },
     "execution_count": 5,
     "metadata": {},
     "output_type": "execute_result"
    }
   ],
   "source": [
    "train_df.shape"
   ]
  },
  {
   "cell_type": "code",
   "execution_count": 6,
   "id": "e0f602cb",
   "metadata": {
    "execution": {
     "iopub.execute_input": "2022-09-08T10:00:30.064721Z",
     "iopub.status.busy": "2022-09-08T10:00:30.064310Z",
     "iopub.status.idle": "2022-09-08T10:00:30.123553Z",
     "shell.execute_reply": "2022-09-08T10:00:30.122310Z"
    },
    "papermill": {
     "duration": 0.077668,
     "end_time": "2022-09-08T10:00:30.126402",
     "exception": false,
     "start_time": "2022-09-08T10:00:30.048734",
     "status": "completed"
    },
    "tags": []
   },
   "outputs": [
    {
     "name": "stdout",
     "output_type": "stream",
     "text": [
      "<class 'pandas.core.frame.DataFrame'>\n",
      "RangeIndex: 42000 entries, 0 to 41999\n",
      "Columns: 785 entries, label to pixel783\n",
      "dtypes: int64(785)\n",
      "memory usage: 251.5 MB\n"
     ]
    }
   ],
   "source": [
    "train_df.info()"
   ]
  },
  {
   "cell_type": "code",
   "execution_count": 7,
   "id": "aff8584b",
   "metadata": {
    "execution": {
     "iopub.execute_input": "2022-09-08T10:00:30.156481Z",
     "iopub.status.busy": "2022-09-08T10:00:30.156064Z",
     "iopub.status.idle": "2022-09-08T10:00:30.208029Z",
     "shell.execute_reply": "2022-09-08T10:00:30.206821Z"
    },
    "papermill": {
     "duration": 0.070302,
     "end_time": "2022-09-08T10:00:30.210780",
     "exception": false,
     "start_time": "2022-09-08T10:00:30.140478",
     "status": "completed"
    },
    "tags": []
   },
   "outputs": [
    {
     "data": {
      "text/plain": [
       "0"
      ]
     },
     "execution_count": 7,
     "metadata": {},
     "output_type": "execute_result"
    }
   ],
   "source": [
    "train_df.isna().sum().sum()"
   ]
  },
  {
   "cell_type": "code",
   "execution_count": 8,
   "id": "1a0ac410",
   "metadata": {
    "execution": {
     "iopub.execute_input": "2022-09-08T10:00:30.242335Z",
     "iopub.status.busy": "2022-09-08T10:00:30.241920Z",
     "iopub.status.idle": "2022-09-08T10:00:30.516282Z",
     "shell.execute_reply": "2022-09-08T10:00:30.514956Z"
    },
    "papermill": {
     "duration": 0.294534,
     "end_time": "2022-09-08T10:00:30.519522",
     "exception": false,
     "start_time": "2022-09-08T10:00:30.224988",
     "status": "completed"
    },
    "tags": []
   },
   "outputs": [
    {
     "data": {
      "image/png": "[encoded data removed]",
      "text/plain": [
       "<Figure size 576x504 with 1 Axes>"
      ]
     },
     "metadata": {
      "needs_background": "light"
     },
     "output_type": "display_data"
    }
   ],
   "source": [
    "# Let's see the class distribution balanced or not\n",
    "\n",
    "plt.figure(figsize=(8,7))\n",
    "sns.countplot(x=\"label\", data=train_df)\n",
    "plt.title(\"Label distribution\")\n",
    "plt.show()"
   ]
  },
  {
   "cell_type": "code",
   "execution_count": 9,
   "id": "65df7637",
   "metadata": {
    "execution": {
     "iopub.execute_input": "2022-09-08T10:00:30.551019Z",
     "iopub.status.busy": "2022-09-08T10:00:30.550548Z",
     "iopub.status.idle": "2022-09-08T10:00:30.559784Z",
     "shell.execute_reply": "2022-09-08T10:00:30.558287Z"
    },
    "papermill": {
     "duration": 0.028253,
     "end_time": "2022-09-08T10:00:30.562304",
     "exception": false,
     "start_time": "2022-09-08T10:00:30.534051",
     "status": "completed"
    },
    "tags": []
   },
   "outputs": [
    {
     "data": {
      "text/plain": [
       "array([[1, 0, 0, ..., 0, 0, 0],\n",
       "       [0, 0, 0, ..., 0, 0, 0],\n",
       "       [1, 0, 0, ..., 0, 0, 0],\n",
       "       ...,\n",
       "       [7, 0, 0, ..., 0, 0, 0],\n",
       "       [6, 0, 0, ..., 0, 0, 0],\n",
       "       [9, 0, 0, ..., 0, 0, 0]])"
      ]
     },
     "execution_count": 9,
     "metadata": {},
     "output_type": "execute_result"
    }
   ],
   "source": [
    "train_df.values"
   ]
  },
  {
   "cell_type": "code",
   "execution_count": 10,
   "id": "0bb13c7f",
   "metadata": {
    "execution": {
     "iopub.execute_input": "2022-09-08T10:00:30.595161Z",
     "iopub.status.busy": "2022-09-08T10:00:30.594220Z",
     "iopub.status.idle": "2022-09-08T10:00:30.606738Z",
     "shell.execute_reply": "2022-09-08T10:00:30.605198Z"
    },
    "papermill": {
     "duration": 0.032158,
     "end_time": "2022-09-08T10:00:30.609373",
     "exception": false,
     "start_time": "2022-09-08T10:00:30.577215",
     "status": "completed"
    },
    "tags": []
   },
   "outputs": [
    {
     "data": {
      "text/plain": [
       "array([  1,   0,   0,   0,   0,   0,   0,   0,   0,   0,   0,   0,   0,\n",
       "         0,   0,   0,   0,   0,   0,   0,   0,   0,   0,   0,   0,   0,\n",
       "         0,   0,   0,   0,   0,   0,   0,   0,   0,   0,   0,   0,   0,\n",
       "         0,   0,   0,   0,   0,   0,   0,   0,   0,   0,   0,   0,   0,\n",
       "         0,   0,   0,   0,   0,   0,   0,   0,   0,   0,   0,   0,   0,\n",
       "         0,   0,   0,   0,   0,   0,   0,   0,   0,   0,   0,   0,   0,\n",
       "         0,   0,   0,   0,   0,   0,   0,   0,   0,   0,   0,   0,   0,\n",
       "         0,   0,   0,   0,   0,   0,   0,   0,   0,   0,   0,   0,   0,\n",
       "         0,   0,   0,   0,   0,   0,   0,   0,   0,   0,   0,   0,   0,\n",
       "         0,   0,   0,   0,   0,   0,   0,   0,   0,   0,   0,   0,   0,\n",
       "         0,   0,   0, 188, 255,  94,   0,   0,   0,   0,   0,   0,   0,\n",
       "         0,   0,   0,   0,   0,   0,   0,   0,   0,   0,   0,   0,   0,\n",
       "         0,   0,   0,   0, 191, 250, 253,  93,   0,   0,   0,   0,   0,\n",
       "         0,   0,   0,   0,   0,   0,   0,   0,   0,   0,   0,   0,   0,\n",
       "         0,   0,   0,   0,   0, 123, 248, 253, 167,  10,   0,   0,   0,\n",
       "         0,   0,   0,   0,   0,   0,   0,   0,   0,   0,   0,   0,   0,\n",
       "         0,   0,   0,   0,   0,   0,  80, 247, 253, 208,  13,   0,   0,\n",
       "         0,   0,   0,   0,   0,   0,   0,   0,   0,   0,   0,   0,   0,\n",
       "         0,   0,   0,   0,   0,   0,   0,  29, 207, 253, 235,  77,   0,\n",
       "         0,   0,   0,   0,   0,   0,   0,   0,   0,   0,   0,   0,   0,\n",
       "         0,   0,   0,   0,   0,   0,   0,   0,  54, 209, 253, 253,  88,\n",
       "         0,   0,   0,   0,   0,   0,   0,   0,   0,   0,   0,   0,   0,\n",
       "         0,   0,   0,   0,   0,   0,   0,   0,   0,  93, 254, 253, 238,\n",
       "       170,  17,   0,   0,   0,   0,   0,   0,   0,   0,   0,   0,   0,\n",
       "         0,   0,   0,   0,   0,   0,   0,   0,   0,   0,  23, 210, 254,\n",
       "       253, 159,   0,   0,   0,   0,   0,   0,   0,   0,   0,   0,   0,\n",
       "         0,   0,   0,   0,   0,   0,   0,   0,   0,   0,   0,  16, 209,\n",
       "       253, 254, 240,  81,   0,   0,   0,   0,   0,   0,   0,   0,   0,\n",
       "         0,   0,   0,   0,   0,   0,   0,   0,   0,   0,   0,   0,   0,\n",
       "        27, 253, 253, 254,  13,   0,   0,   0,   0,   0,   0,   0,   0,\n",
       "         0,   0,   0,   0,   0,   0,   0,   0,   0,   0,   0,   0,   0,\n",
       "         0,  20, 206, 254, 254, 198,   7,   0,   0,   0,   0,   0,   0,\n",
       "         0,   0,   0,   0,   0,   0,   0,   0,   0,   0,   0,   0,   0,\n",
       "         0,   0,   0, 168, 253, 253, 196,   7,   0,   0,   0,   0,   0,\n",
       "         0,   0,   0,   0,   0,   0,   0,   0,   0,   0,   0,   0,   0,\n",
       "         0,   0,   0,   0,  20, 203, 253, 248,  76,   0,   0,   0,   0,\n",
       "         0,   0,   0,   0,   0,   0,   0,   0,   0,   0,   0,   0,   0,\n",
       "         0,   0,   0,   0,   0,  22, 188, 253, 245,  93,   0,   0,   0,\n",
       "         0,   0,   0,   0,   0,   0,   0,   0,   0,   0,   0,   0,   0,\n",
       "         0,   0,   0,   0,   0,   0,   0, 103, 253, 253, 191,   0,   0,\n",
       "         0,   0,   0,   0,   0,   0,   0,   0,   0,   0,   0,   0,   0,\n",
       "         0,   0,   0,   0,   0,   0,   0,   0,  89, 240, 253, 195,  25,\n",
       "         0,   0,   0,   0,   0,   0,   0,   0,   0,   0,   0,   0,   0,\n",
       "         0,   0,   0,   0,   0,   0,   0,   0,   0,  15, 220, 253, 253,\n",
       "        80,   0,   0,   0,   0,   0,   0,   0,   0,   0,   0,   0,   0,\n",
       "         0,   0,   0,   0,   0,   0,   0,   0,   0,   0,   0,  94, 253,\n",
       "       253, 253,  94,   0,   0,   0,   0,   0,   0,   0,   0,   0,   0,\n",
       "         0,   0,   0,   0,   0,   0,   0,   0,   0,   0,   0,   0,   0,\n",
       "        89, 251, 253, 250, 131,   0,   0,   0,   0,   0,   0,   0,   0,\n",
       "         0,   0,   0,   0,   0,   0,   0,   0,   0,   0,   0,   0,   0,\n",
       "         0,   0,   0, 214, 218,  95,   0,   0,   0,   0,   0,   0,   0,\n",
       "         0,   0,   0,   0,   0,   0,   0,   0,   0,   0,   0,   0,   0,\n",
       "         0,   0,   0,   0,   0,   0,   0,   0,   0,   0,   0,   0,   0,\n",
       "         0,   0,   0,   0,   0,   0,   0,   0,   0,   0,   0,   0,   0,\n",
       "         0,   0,   0,   0,   0,   0,   0,   0,   0,   0,   0,   0,   0,\n",
       "         0,   0,   0,   0,   0,   0,   0,   0,   0,   0,   0,   0,   0,\n",
       "         0,   0,   0,   0,   0,   0,   0,   0,   0,   0,   0,   0,   0,\n",
       "         0,   0,   0,   0,   0,   0,   0,   0,   0,   0,   0,   0,   0,\n",
       "         0,   0,   0,   0,   0,   0,   0,   0,   0,   0,   0,   0,   0,\n",
       "         0,   0,   0,   0,   0,   0,   0,   0,   0,   0,   0,   0,   0,\n",
       "         0,   0,   0,   0,   0])"
      ]
     },
     "execution_count": 10,
     "metadata": {},
     "output_type": "execute_result"
    }
   ],
   "source": [
    "train_df.values[0]"
   ]
  },
  {
   "cell_type": "code",
   "execution_count": 11,
   "id": "c65a3633",
   "metadata": {
    "execution": {
     "iopub.execute_input": "2022-09-08T10:00:30.642004Z",
     "iopub.status.busy": "2022-09-08T10:00:30.641132Z",
     "iopub.status.idle": "2022-09-08T10:00:30.649392Z",
     "shell.execute_reply": "2022-09-08T10:00:30.648200Z"
    },
    "papermill": {
     "duration": 0.0284,
     "end_time": "2022-09-08T10:00:30.652818",
     "exception": false,
     "start_time": "2022-09-08T10:00:30.624418",
     "status": "completed"
    },
    "tags": []
   },
   "outputs": [
    {
     "data": {
      "text/plain": [
       "array([[1],\n",
       "       [0],\n",
       "       [1],\n",
       "       ...,\n",
       "       [7],\n",
       "       [6],\n",
       "       [9]])"
      ]
     },
     "execution_count": 11,
     "metadata": {},
     "output_type": "execute_result"
    }
   ],
   "source": [
    "train_df.values[:, :1]"
   ]
  },
  {
   "cell_type": "code",
   "execution_count": 12,
   "id": "901aac85",
   "metadata": {
    "execution": {
     "iopub.execute_input": "2022-09-08T10:00:30.685206Z",
     "iopub.status.busy": "2022-09-08T10:00:30.684308Z",
     "iopub.status.idle": "2022-09-08T10:00:30.692081Z",
     "shell.execute_reply": "2022-09-08T10:00:30.691154Z"
    },
    "papermill": {
     "duration": 0.026571,
     "end_time": "2022-09-08T10:00:30.694499",
     "exception": false,
     "start_time": "2022-09-08T10:00:30.667928",
     "status": "completed"
    },
    "tags": []
   },
   "outputs": [
    {
     "data": {
      "text/plain": [
       "array([[0, 0, 0, ..., 0, 0, 0],\n",
       "       [0, 0, 0, ..., 0, 0, 0],\n",
       "       [0, 0, 0, ..., 0, 0, 0],\n",
       "       ...,\n",
       "       [0, 0, 0, ..., 0, 0, 0],\n",
       "       [0, 0, 0, ..., 0, 0, 0],\n",
       "       [0, 0, 0, ..., 0, 0, 0]])"
      ]
     },
     "execution_count": 12,
     "metadata": {},
     "output_type": "execute_result"
    }
   ],
   "source": [
    "train_df.values[:, 1:]"
   ]
  },
  {
   "cell_type": "code",
   "execution_count": 13,
   "id": "0fff49c4",
   "metadata": {
    "execution": {
     "iopub.execute_input": "2022-09-08T10:00:30.728201Z",
     "iopub.status.busy": "2022-09-08T10:00:30.727753Z",
     "iopub.status.idle": "2022-09-08T10:00:30.733216Z",
     "shell.execute_reply": "2022-09-08T10:00:30.731971Z"
    },
    "papermill": {
     "duration": 0.025801,
     "end_time": "2022-09-08T10:00:30.735787",
     "exception": false,
     "start_time": "2022-09-08T10:00:30.709986",
     "status": "completed"
    },
    "tags": []
   },
   "outputs": [],
   "source": [
    "# Divide the dataset into features and target\n",
    "\n",
    "X = train_df.values[:, 1:]\n",
    "y = train_df.values[:, :1]"
   ]
  },
  {
   "cell_type": "code",
   "execution_count": 14,
   "id": "aca2c830",
   "metadata": {
    "execution": {
     "iopub.execute_input": "2022-09-08T10:00:30.768735Z",
     "iopub.status.busy": "2022-09-08T10:00:30.767453Z",
     "iopub.status.idle": "2022-09-08T10:00:30.775489Z",
     "shell.execute_reply": "2022-09-08T10:00:30.774172Z"
    },
    "papermill": {
     "duration": 0.027056,
     "end_time": "2022-09-08T10:00:30.778231",
     "exception": false,
     "start_time": "2022-09-08T10:00:30.751175",
     "status": "completed"
    },
    "tags": []
   },
   "outputs": [
    {
     "data": {
      "text/plain": [
       "(42000, 784)"
      ]
     },
     "execution_count": 14,
     "metadata": {},
     "output_type": "execute_result"
    }
   ],
   "source": [
    "X.shape"
   ]
  },
  {
   "cell_type": "code",
   "execution_count": 15,
   "id": "aaa89975",
   "metadata": {
    "execution": {
     "iopub.execute_input": "2022-09-08T10:00:30.810946Z",
     "iopub.status.busy": "2022-09-08T10:00:30.810165Z",
     "iopub.status.idle": "2022-09-08T10:00:30.817341Z",
     "shell.execute_reply": "2022-09-08T10:00:30.816293Z"
    },
    "papermill": {
     "duration": 0.026269,
     "end_time": "2022-09-08T10:00:30.819754",
     "exception": false,
     "start_time": "2022-09-08T10:00:30.793485",
     "status": "completed"
    },
    "tags": []
   },
   "outputs": [
    {
     "data": {
      "text/plain": [
       "(42000, 1)"
      ]
     },
     "execution_count": 15,
     "metadata": {},
     "output_type": "execute_result"
    }
   ],
   "source": [
    "y.shape"
   ]
  },
  {
   "cell_type": "code",
   "execution_count": 16,
   "id": "299bddff",
   "metadata": {
    "execution": {
     "iopub.execute_input": "2022-09-08T10:00:30.852316Z",
     "iopub.status.busy": "2022-09-08T10:00:30.851493Z",
     "iopub.status.idle": "2022-09-08T10:00:30.996477Z",
     "shell.execute_reply": "2022-09-08T10:00:30.995327Z"
    },
    "papermill": {
     "duration": 0.166065,
     "end_time": "2022-09-08T10:00:31.000945",
     "exception": false,
     "start_time": "2022-09-08T10:00:30.834880",
     "status": "completed"
    },
    "tags": []
   },
   "outputs": [],
   "source": [
    "# Scaling all pixel value for bring the same range between 0 to 1\n",
    "\n",
    "X_scale = X / 255."
   ]
  },
  {
   "cell_type": "code",
   "execution_count": 17,
   "id": "2a6c7b0a",
   "metadata": {
    "execution": {
     "iopub.execute_input": "2022-09-08T10:00:31.034635Z",
     "iopub.status.busy": "2022-09-08T10:00:31.034206Z",
     "iopub.status.idle": "2022-09-08T10:00:31.090652Z",
     "shell.execute_reply": "2022-09-08T10:00:31.088899Z"
    },
    "papermill": {
     "duration": 0.076091,
     "end_time": "2022-09-08T10:00:31.093317",
     "exception": false,
     "start_time": "2022-09-08T10:00:31.017226",
     "status": "completed"
    },
    "tags": []
   },
   "outputs": [
    {
     "name": "stdout",
     "output_type": "stream",
     "text": [
      "Max value:  1.0\n",
      "Max value:  0.0\n"
     ]
    }
   ],
   "source": [
    "print(\"Max value: \", X_scale.max())\n",
    "print(\"Max value: \", X_scale.min())"
   ]
  },
  {
   "cell_type": "code",
   "execution_count": 18,
   "id": "35dc6d4c",
   "metadata": {
    "execution": {
     "iopub.execute_input": "2022-09-08T10:00:31.125481Z",
     "iopub.status.busy": "2022-09-08T10:00:31.125062Z",
     "iopub.status.idle": "2022-09-08T10:00:31.131655Z",
     "shell.execute_reply": "2022-09-08T10:00:31.130271Z"
    },
    "papermill": {
     "duration": 0.025639,
     "end_time": "2022-09-08T10:00:31.134162",
     "exception": false,
     "start_time": "2022-09-08T10:00:31.108523",
     "status": "completed"
    },
    "tags": []
   },
   "outputs": [
    {
     "name": "stdout",
     "output_type": "stream",
     "text": [
      "784\n",
      "28.0\n",
      "28\n"
     ]
    }
   ],
   "source": [
    "print(X_scale.shape[1])\n",
    "print(np.sqrt(X_scale.shape[1]))\n",
    "print(int(np.sqrt(X_scale.shape[1])))"
   ]
  },
  {
   "cell_type": "code",
   "execution_count": 19,
   "id": "467998b1",
   "metadata": {
    "execution": {
     "iopub.execute_input": "2022-09-08T10:00:31.167292Z",
     "iopub.status.busy": "2022-09-08T10:00:31.166824Z",
     "iopub.status.idle": "2022-09-08T10:00:31.174169Z",
     "shell.execute_reply": "2022-09-08T10:00:31.172980Z"
    },
    "papermill": {
     "duration": 0.026445,
     "end_time": "2022-09-08T10:00:31.176387",
     "exception": false,
     "start_time": "2022-09-08T10:00:31.149942",
     "status": "completed"
    },
    "tags": []
   },
   "outputs": [
    {
     "data": {
      "text/plain": [
       "28"
      ]
     },
     "execution_count": 19,
     "metadata": {},
     "output_type": "execute_result"
    }
   ],
   "source": [
    "dim = int(np.sqrt(X_scale.shape[1]))\n",
    "dim"
   ]
  },
  {
   "cell_type": "code",
   "execution_count": 20,
   "id": "f263bb0f",
   "metadata": {
    "execution": {
     "iopub.execute_input": "2022-09-08T10:00:31.208528Z",
     "iopub.status.busy": "2022-09-08T10:00:31.208114Z",
     "iopub.status.idle": "2022-09-08T10:00:31.215688Z",
     "shell.execute_reply": "2022-09-08T10:00:31.214469Z"
    },
    "papermill": {
     "duration": 0.026578,
     "end_time": "2022-09-08T10:00:31.218354",
     "exception": false,
     "start_time": "2022-09-08T10:00:31.191776",
     "status": "completed"
    },
    "tags": []
   },
   "outputs": [
    {
     "data": {
      "text/plain": [
       "42000"
      ]
     },
     "execution_count": 20,
     "metadata": {},
     "output_type": "execute_result"
    }
   ],
   "source": [
    "N = X_scale.shape[0]\n",
    "N"
   ]
  },
  {
   "cell_type": "code",
   "execution_count": 21,
   "id": "da306c0c",
   "metadata": {
    "execution": {
     "iopub.execute_input": "2022-09-08T10:00:31.255036Z",
     "iopub.status.busy": "2022-09-08T10:00:31.254266Z",
     "iopub.status.idle": "2022-09-08T10:00:31.259572Z",
     "shell.execute_reply": "2022-09-08T10:00:31.258514Z"
    },
    "papermill": {
     "duration": 0.026596,
     "end_time": "2022-09-08T10:00:31.261767",
     "exception": false,
     "start_time": "2022-09-08T10:00:31.235171",
     "status": "completed"
    },
    "tags": []
   },
   "outputs": [],
   "source": [
    "X_scale = X_scale.reshape((N, dim, dim, 1)) # Make 28 x 28 image"
   ]
  },
  {
   "cell_type": "code",
   "execution_count": 22,
   "id": "a11ac02f",
   "metadata": {
    "execution": {
     "iopub.execute_input": "2022-09-08T10:00:31.295052Z",
     "iopub.status.busy": "2022-09-08T10:00:31.294643Z",
     "iopub.status.idle": "2022-09-08T10:00:31.305930Z",
     "shell.execute_reply": "2022-09-08T10:00:31.304775Z"
    },
    "papermill": {
     "duration": 0.031368,
     "end_time": "2022-09-08T10:00:31.308581",
     "exception": false,
     "start_time": "2022-09-08T10:00:31.277213",
     "status": "completed"
    },
    "tags": []
   },
   "outputs": [
    {
     "data": {
      "text/plain": [
       "array([[[[0.],\n",
       "         [0.],\n",
       "         [0.],\n",
       "         ...,\n",
       "         [0.],\n",
       "         [0.],\n",
       "         [0.]],\n",
       "\n",
       "        [[0.],\n",
       "         [0.],\n",
       "         [0.],\n",
       "         ...,\n",
       "         [0.],\n",
       "         [0.],\n",
       "         [0.]],\n",
       "\n",
       "        [[0.],\n",
       "         [0.],\n",
       "         [0.],\n",
       "         ...,\n",
       "         [0.],\n",
       "         [0.],\n",
       "         [0.]],\n",
       "\n",
       "        ...,\n",
       "\n",
       "        [[0.],\n",
       "         [0.],\n",
       "         [0.],\n",
       "         ...,\n",
       "         [0.],\n",
       "         [0.],\n",
       "         [0.]],\n",
       "\n",
       "        [[0.],\n",
       "         [0.],\n",
       "         [0.],\n",
       "         ...,\n",
       "         [0.],\n",
       "         [0.],\n",
       "         [0.]],\n",
       "\n",
       "        [[0.],\n",
       "         [0.],\n",
       "         [0.],\n",
       "         ...,\n",
       "         [0.],\n",
       "         [0.],\n",
       "         [0.]]],\n",
       "\n",
       "\n",
       "       [[[0.],\n",
       "         [0.],\n",
       "         [0.],\n",
       "         ...,\n",
       "         [0.],\n",
       "         [0.],\n",
       "         [0.]],\n",
       "\n",
       "        [[0.],\n",
       "         [0.],\n",
       "         [0.],\n",
       "         ...,\n",
       "         [0.],\n",
       "         [0.],\n",
       "         [0.]],\n",
       "\n",
       "        [[0.],\n",
       "         [0.],\n",
       "         [0.],\n",
       "         ...,\n",
       "         [0.],\n",
       "         [0.],\n",
       "         [0.]],\n",
       "\n",
       "        ...,\n",
       "\n",
       "        [[0.],\n",
       "         [0.],\n",
       "         [0.],\n",
       "         ...,\n",
       "         [0.],\n",
       "         [0.],\n",
       "         [0.]],\n",
       "\n",
       "        [[0.],\n",
       "         [0.],\n",
       "         [0.],\n",
       "         ...,\n",
       "         [0.],\n",
       "         [0.],\n",
       "         [0.]],\n",
       "\n",
       "        [[0.],\n",
       "         [0.],\n",
       "         [0.],\n",
       "         ...,\n",
       "         [0.],\n",
       "         [0.],\n",
       "         [0.]]],\n",
       "\n",
       "\n",
       "       [[[0.],\n",
       "         [0.],\n",
       "         [0.],\n",
       "         ...,\n",
       "         [0.],\n",
       "         [0.],\n",
       "         [0.]],\n",
       "\n",
       "        [[0.],\n",
       "         [0.],\n",
       "         [0.],\n",
       "         ...,\n",
       "         [0.],\n",
       "         [0.],\n",
       "         [0.]],\n",
       "\n",
       "        [[0.],\n",
       "         [0.],\n",
       "         [0.],\n",
       "         ...,\n",
       "         [0.],\n",
       "         [0.],\n",
       "         [0.]],\n",
       "\n",
       "        ...,\n",
       "\n",
       "        [[0.],\n",
       "         [0.],\n",
       "         [0.],\n",
       "         ...,\n",
       "         [0.],\n",
       "         [0.],\n",
       "         [0.]],\n",
       "\n",
       "        [[0.],\n",
       "         [0.],\n",
       "         [0.],\n",
       "         ...,\n",
       "         [0.],\n",
       "         [0.],\n",
       "         [0.]],\n",
       "\n",
       "        [[0.],\n",
       "         [0.],\n",
       "         [0.],\n",
       "         ...,\n",
       "         [0.],\n",
       "         [0.],\n",
       "         [0.]]],\n",
       "\n",
       "\n",
       "       ...,\n",
       "\n",
       "\n",
       "       [[[0.],\n",
       "         [0.],\n",
       "         [0.],\n",
       "         ...,\n",
       "         [0.],\n",
       "         [0.],\n",
       "         [0.]],\n",
       "\n",
       "        [[0.],\n",
       "         [0.],\n",
       "         [0.],\n",
       "         ...,\n",
       "         [0.],\n",
       "         [0.],\n",
       "         [0.]],\n",
       "\n",
       "        [[0.],\n",
       "         [0.],\n",
       "         [0.],\n",
       "         ...,\n",
       "         [0.],\n",
       "         [0.],\n",
       "         [0.]],\n",
       "\n",
       "        ...,\n",
       "\n",
       "        [[0.],\n",
       "         [0.],\n",
       "         [0.],\n",
       "         ...,\n",
       "         [0.],\n",
       "         [0.],\n",
       "         [0.]],\n",
       "\n",
       "        [[0.],\n",
       "         [0.],\n",
       "         [0.],\n",
       "         ...,\n",
       "         [0.],\n",
       "         [0.],\n",
       "         [0.]],\n",
       "\n",
       "        [[0.],\n",
       "         [0.],\n",
       "         [0.],\n",
       "         ...,\n",
       "         [0.],\n",
       "         [0.],\n",
       "         [0.]]],\n",
       "\n",
       "\n",
       "       [[[0.],\n",
       "         [0.],\n",
       "         [0.],\n",
       "         ...,\n",
       "         [0.],\n",
       "         [0.],\n",
       "         [0.]],\n",
       "\n",
       "        [[0.],\n",
       "         [0.],\n",
       "         [0.],\n",
       "         ...,\n",
       "         [0.],\n",
       "         [0.],\n",
       "         [0.]],\n",
       "\n",
       "        [[0.],\n",
       "         [0.],\n",
       "         [0.],\n",
       "         ...,\n",
       "         [0.],\n",
       "         [0.],\n",
       "         [0.]],\n",
       "\n",
       "        ...,\n",
       "\n",
       "        [[0.],\n",
       "         [0.],\n",
       "         [0.],\n",
       "         ...,\n",
       "         [0.],\n",
       "         [0.],\n",
       "         [0.]],\n",
       "\n",
       "        [[0.],\n",
       "         [0.],\n",
       "         [0.],\n",
       "         ...,\n",
       "         [0.],\n",
       "         [0.],\n",
       "         [0.]],\n",
       "\n",
       "        [[0.],\n",
       "         [0.],\n",
       "         [0.],\n",
       "         ...,\n",
       "         [0.],\n",
       "         [0.],\n",
       "         [0.]]],\n",
       "\n",
       "\n",
       "       [[[0.],\n",
       "         [0.],\n",
       "         [0.],\n",
       "         ...,\n",
       "         [0.],\n",
       "         [0.],\n",
       "         [0.]],\n",
       "\n",
       "        [[0.],\n",
       "         [0.],\n",
       "         [0.],\n",
       "         ...,\n",
       "         [0.],\n",
       "         [0.],\n",
       "         [0.]],\n",
       "\n",
       "        [[0.],\n",
       "         [0.],\n",
       "         [0.],\n",
       "         ...,\n",
       "         [0.],\n",
       "         [0.],\n",
       "         [0.]],\n",
       "\n",
       "        ...,\n",
       "\n",
       "        [[0.],\n",
       "         [0.],\n",
       "         [0.],\n",
       "         ...,\n",
       "         [0.],\n",
       "         [0.],\n",
       "         [0.]],\n",
       "\n",
       "        [[0.],\n",
       "         [0.],\n",
       "         [0.],\n",
       "         ...,\n",
       "         [0.],\n",
       "         [0.],\n",
       "         [0.]],\n",
       "\n",
       "        [[0.],\n",
       "         [0.],\n",
       "         [0.],\n",
       "         ...,\n",
       "         [0.],\n",
       "         [0.],\n",
       "         [0.]]]])"
      ]
     },
     "execution_count": 22,
     "metadata": {},
     "output_type": "execute_result"
    }
   ],
   "source": [
    "X_scale"
   ]
  },
  {
   "cell_type": "code",
   "execution_count": 23,
   "id": "92015ccc",
   "metadata": {
    "execution": {
     "iopub.execute_input": "2022-09-08T10:00:31.343295Z",
     "iopub.status.busy": "2022-09-08T10:00:31.342312Z",
     "iopub.status.idle": "2022-09-08T10:00:31.361975Z",
     "shell.execute_reply": "2022-09-08T10:00:31.360850Z"
    },
    "papermill": {
     "duration": 0.039879,
     "end_time": "2022-09-08T10:00:31.364739",
     "exception": false,
     "start_time": "2022-09-08T10:00:31.324860",
     "status": "completed"
    },
    "tags": []
   },
   "outputs": [
    {
     "data": {
      "text/plain": [
       "array([[[0.        ],\n",
       "        [0.        ],\n",
       "        [0.        ],\n",
       "        [0.        ],\n",
       "        [0.        ],\n",
       "        [0.        ],\n",
       "        [0.        ],\n",
       "        [0.        ],\n",
       "        [0.        ],\n",
       "        [0.        ],\n",
       "        [0.        ],\n",
       "        [0.        ],\n",
       "        [0.        ],\n",
       "        [0.        ],\n",
       "        [0.        ],\n",
       "        [0.        ],\n",
       "        [0.        ],\n",
       "        [0.        ],\n",
       "        [0.        ],\n",
       "        [0.        ],\n",
       "        [0.        ],\n",
       "        [0.        ],\n",
       "        [0.        ],\n",
       "        [0.        ],\n",
       "        [0.        ],\n",
       "        [0.        ],\n",
       "        [0.        ],\n",
       "        [0.        ]],\n",
       "\n",
       "       [[0.        ],\n",
       "        [0.        ],\n",
       "        [0.        ],\n",
       "        [0.        ],\n",
       "        [0.        ],\n",
       "        [0.        ],\n",
       "        [0.        ],\n",
       "        [0.        ],\n",
       "        [0.        ],\n",
       "        [0.        ],\n",
       "        [0.        ],\n",
       "        [0.        ],\n",
       "        [0.        ],\n",
       "        [0.        ],\n",
       "        [0.        ],\n",
       "        [0.        ],\n",
       "        [0.        ],\n",
       "        [0.        ],\n",
       "        [0.        ],\n",
       "        [0.        ],\n",
       "        [0.        ],\n",
       "        [0.        ],\n",
       "        [0.        ],\n",
       "        [0.        ],\n",
       "        [0.        ],\n",
       "        [0.        ],\n",
       "        [0.        ],\n",
       "        [0.        ]],\n",
       "\n",
       "       [[0.        ],\n",
       "        [0.        ],\n",
       "        [0.        ],\n",
       "        [0.        ],\n",
       "        [0.        ],\n",
       "        [0.        ],\n",
       "        [0.        ],\n",
       "        [0.        ],\n",
       "        [0.        ],\n",
       "        [0.        ],\n",
       "        [0.        ],\n",
       "        [0.        ],\n",
       "        [0.        ],\n",
       "        [0.        ],\n",
       "        [0.        ],\n",
       "        [0.        ],\n",
       "        [0.        ],\n",
       "        [0.        ],\n",
       "        [0.        ],\n",
       "        [0.        ],\n",
       "        [0.        ],\n",
       "        [0.        ],\n",
       "        [0.        ],\n",
       "        [0.        ],\n",
       "        [0.        ],\n",
       "        [0.        ],\n",
       "        [0.        ],\n",
       "        [0.        ]],\n",
       "\n",
       "       [[0.        ],\n",
       "        [0.        ],\n",
       "        [0.        ],\n",
       "        [0.        ],\n",
       "        [0.        ],\n",
       "        [0.        ],\n",
       "        [0.        ],\n",
       "        [0.        ],\n",
       "        [0.        ],\n",
       "        [0.        ],\n",
       "        [0.        ],\n",
       "        [0.        ],\n",
       "        [0.        ],\n",
       "        [0.        ],\n",
       "        [0.        ],\n",
       "        [0.        ],\n",
       "        [0.        ],\n",
       "        [0.        ],\n",
       "        [0.        ],\n",
       "        [0.        ],\n",
       "        [0.        ],\n",
       "        [0.        ],\n",
       "        [0.        ],\n",
       "        [0.        ],\n",
       "        [0.        ],\n",
       "        [0.        ],\n",
       "        [0.        ],\n",
       "        [0.        ]],\n",
       "\n",
       "       [[0.        ],\n",
       "        [0.        ],\n",
       "        [0.        ],\n",
       "        [0.        ],\n",
       "        [0.        ],\n",
       "        [0.        ],\n",
       "        [0.        ],\n",
       "        [0.        ],\n",
       "        [0.        ],\n",
       "        [0.        ],\n",
       "        [0.        ],\n",
       "        [0.        ],\n",
       "        [0.        ],\n",
       "        [0.        ],\n",
       "        [0.        ],\n",
       "        [0.        ],\n",
       "        [0.        ],\n",
       "        [0.        ],\n",
       "        [0.        ],\n",
       "        [0.        ],\n",
       "        [0.7372549 ],\n",
       "        [1.        ],\n",
       "        [0.36862745],\n",
       "        [0.        ],\n",
       "        [0.        ],\n",
       "        [0.        ],\n",
       "        [0.        ],\n",
       "        [0.        ]],\n",
       "\n",
       "       [[0.        ],\n",
       "        [0.        ],\n",
       "        [0.        ],\n",
       "        [0.        ],\n",
       "        [0.        ],\n",
       "        [0.        ],\n",
       "        [0.        ],\n",
       "        [0.        ],\n",
       "        [0.        ],\n",
       "        [0.        ],\n",
       "        [0.        ],\n",
       "        [0.        ],\n",
       "        [0.        ],\n",
       "        [0.        ],\n",
       "        [0.        ],\n",
       "        [0.        ],\n",
       "        [0.        ],\n",
       "        [0.        ],\n",
       "        [0.        ],\n",
       "        [0.74901961],\n",
       "        [0.98039216],\n",
       "        [0.99215686],\n",
       "        [0.36470588],\n",
       "        [0.        ],\n",
       "        [0.        ],\n",
       "        [0.        ],\n",
       "        [0.        ],\n",
       "        [0.        ]],\n",
       "\n",
       "       [[0.        ],\n",
       "        [0.        ],\n",
       "        [0.        ],\n",
       "        [0.        ],\n",
       "        [0.        ],\n",
       "        [0.        ],\n",
       "        [0.        ],\n",
       "        [0.        ],\n",
       "        [0.        ],\n",
       "        [0.        ],\n",
       "        [0.        ],\n",
       "        [0.        ],\n",
       "        [0.        ],\n",
       "        [0.        ],\n",
       "        [0.        ],\n",
       "        [0.        ],\n",
       "        [0.        ],\n",
       "        [0.        ],\n",
       "        [0.48235294],\n",
       "        [0.97254902],\n",
       "        [0.99215686],\n",
       "        [0.65490196],\n",
       "        [0.03921569],\n",
       "        [0.        ],\n",
       "        [0.        ],\n",
       "        [0.        ],\n",
       "        [0.        ],\n",
       "        [0.        ]],\n",
       "\n",
       "       [[0.        ],\n",
       "        [0.        ],\n",
       "        [0.        ],\n",
       "        [0.        ],\n",
       "        [0.        ],\n",
       "        [0.        ],\n",
       "        [0.        ],\n",
       "        [0.        ],\n",
       "        [0.        ],\n",
       "        [0.        ],\n",
       "        [0.        ],\n",
       "        [0.        ],\n",
       "        [0.        ],\n",
       "        [0.        ],\n",
       "        [0.        ],\n",
       "        [0.        ],\n",
       "        [0.        ],\n",
       "        [0.31372549],\n",
       "        [0.96862745],\n",
       "        [0.99215686],\n",
       "        [0.81568627],\n",
       "        [0.05098039],\n",
       "        [0.        ],\n",
       "        [0.        ],\n",
       "        [0.        ],\n",
       "        [0.        ],\n",
       "        [0.        ],\n",
       "        [0.        ]],\n",
       "\n",
       "       [[0.        ],\n",
       "        [0.        ],\n",
       "        [0.        ],\n",
       "        [0.        ],\n",
       "        [0.        ],\n",
       "        [0.        ],\n",
       "        [0.        ],\n",
       "        [0.        ],\n",
       "        [0.        ],\n",
       "        [0.        ],\n",
       "        [0.        ],\n",
       "        [0.        ],\n",
       "        [0.        ],\n",
       "        [0.        ],\n",
       "        [0.        ],\n",
       "        [0.        ],\n",
       "        [0.11372549],\n",
       "        [0.81176471],\n",
       "        [0.99215686],\n",
       "        [0.92156863],\n",
       "        [0.30196078],\n",
       "        [0.        ],\n",
       "        [0.        ],\n",
       "        [0.        ],\n",
       "        [0.        ],\n",
       "        [0.        ],\n",
       "        [0.        ],\n",
       "        [0.        ]],\n",
       "\n",
       "       [[0.        ],\n",
       "        [0.        ],\n",
       "        [0.        ],\n",
       "        [0.        ],\n",
       "        [0.        ],\n",
       "        [0.        ],\n",
       "        [0.        ],\n",
       "        [0.        ],\n",
       "        [0.        ],\n",
       "        [0.        ],\n",
       "        [0.        ],\n",
       "        [0.        ],\n",
       "        [0.        ],\n",
       "        [0.        ],\n",
       "        [0.        ],\n",
       "        [0.21176471],\n",
       "        [0.81960784],\n",
       "        [0.99215686],\n",
       "        [0.99215686],\n",
       "        [0.34509804],\n",
       "        [0.        ],\n",
       "        [0.        ],\n",
       "        [0.        ],\n",
       "        [0.        ],\n",
       "        [0.        ],\n",
       "        [0.        ],\n",
       "        [0.        ],\n",
       "        [0.        ]],\n",
       "\n",
       "       [[0.        ],\n",
       "        [0.        ],\n",
       "        [0.        ],\n",
       "        [0.        ],\n",
       "        [0.        ],\n",
       "        [0.        ],\n",
       "        [0.        ],\n",
       "        [0.        ],\n",
       "        [0.        ],\n",
       "        [0.        ],\n",
       "        [0.        ],\n",
       "        [0.        ],\n",
       "        [0.        ],\n",
       "        [0.        ],\n",
       "        [0.36470588],\n",
       "        [0.99607843],\n",
       "        [0.99215686],\n",
       "        [0.93333333],\n",
       "        [0.66666667],\n",
       "        [0.06666667],\n",
       "        [0.        ],\n",
       "        [0.        ],\n",
       "        [0.        ],\n",
       "        [0.        ],\n",
       "        [0.        ],\n",
       "        [0.        ],\n",
       "        [0.        ],\n",
       "        [0.        ]],\n",
       "\n",
       "       [[0.        ],\n",
       "        [0.        ],\n",
       "        [0.        ],\n",
       "        [0.        ],\n",
       "        [0.        ],\n",
       "        [0.        ],\n",
       "        [0.        ],\n",
       "        [0.        ],\n",
       "        [0.        ],\n",
       "        [0.        ],\n",
       "        [0.        ],\n",
       "        [0.        ],\n",
       "        [0.        ],\n",
       "        [0.09019608],\n",
       "        [0.82352941],\n",
       "        [0.99607843],\n",
       "        [0.99215686],\n",
       "        [0.62352941],\n",
       "        [0.        ],\n",
       "        [0.        ],\n",
       "        [0.        ],\n",
       "        [0.        ],\n",
       "        [0.        ],\n",
       "        [0.        ],\n",
       "        [0.        ],\n",
       "        [0.        ],\n",
       "        [0.        ],\n",
       "        [0.        ]],\n",
       "\n",
       "       [[0.        ],\n",
       "        [0.        ],\n",
       "        [0.        ],\n",
       "        [0.        ],\n",
       "        [0.        ],\n",
       "        [0.        ],\n",
       "        [0.        ],\n",
       "        [0.        ],\n",
       "        [0.        ],\n",
       "        [0.        ],\n",
       "        [0.        ],\n",
       "        [0.        ],\n",
       "        [0.0627451 ],\n",
       "        [0.81960784],\n",
       "        [0.99215686],\n",
       "        [0.99607843],\n",
       "        [0.94117647],\n",
       "        [0.31764706],\n",
       "        [0.        ],\n",
       "        [0.        ],\n",
       "        [0.        ],\n",
       "        [0.        ],\n",
       "        [0.        ],\n",
       "        [0.        ],\n",
       "        [0.        ],\n",
       "        [0.        ],\n",
       "        [0.        ],\n",
       "        [0.        ]],\n",
       "\n",
       "       [[0.        ],\n",
       "        [0.        ],\n",
       "        [0.        ],\n",
       "        [0.        ],\n",
       "        [0.        ],\n",
       "        [0.        ],\n",
       "        [0.        ],\n",
       "        [0.        ],\n",
       "        [0.        ],\n",
       "        [0.        ],\n",
       "        [0.        ],\n",
       "        [0.        ],\n",
       "        [0.10588235],\n",
       "        [0.99215686],\n",
       "        [0.99215686],\n",
       "        [0.99607843],\n",
       "        [0.05098039],\n",
       "        [0.        ],\n",
       "        [0.        ],\n",
       "        [0.        ],\n",
       "        [0.        ],\n",
       "        [0.        ],\n",
       "        [0.        ],\n",
       "        [0.        ],\n",
       "        [0.        ],\n",
       "        [0.        ],\n",
       "        [0.        ],\n",
       "        [0.        ]],\n",
       "\n",
       "       [[0.        ],\n",
       "        [0.        ],\n",
       "        [0.        ],\n",
       "        [0.        ],\n",
       "        [0.        ],\n",
       "        [0.        ],\n",
       "        [0.        ],\n",
       "        [0.        ],\n",
       "        [0.        ],\n",
       "        [0.        ],\n",
       "        [0.        ],\n",
       "        [0.07843137],\n",
       "        [0.80784314],\n",
       "        [0.99607843],\n",
       "        [0.99607843],\n",
       "        [0.77647059],\n",
       "        [0.02745098],\n",
       "        [0.        ],\n",
       "        [0.        ],\n",
       "        [0.        ],\n",
       "        [0.        ],\n",
       "        [0.        ],\n",
       "        [0.        ],\n",
       "        [0.        ],\n",
       "        [0.        ],\n",
       "        [0.        ],\n",
       "        [0.        ],\n",
       "        [0.        ]],\n",
       "\n",
       "       [[0.        ],\n",
       "        [0.        ],\n",
       "        [0.        ],\n",
       "        [0.        ],\n",
       "        [0.        ],\n",
       "        [0.        ],\n",
       "        [0.        ],\n",
       "        [0.        ],\n",
       "        [0.        ],\n",
       "        [0.        ],\n",
       "        [0.        ],\n",
       "        [0.65882353],\n",
       "        [0.99215686],\n",
       "        [0.99215686],\n",
       "        [0.76862745],\n",
       "        [0.02745098],\n",
       "        [0.        ],\n",
       "        [0.        ],\n",
       "        [0.        ],\n",
       "        [0.        ],\n",
       "        [0.        ],\n",
       "        [0.        ],\n",
       "        [0.        ],\n",
       "        [0.        ],\n",
       "        [0.        ],\n",
       "        [0.        ],\n",
       "        [0.        ],\n",
       "        [0.        ]],\n",
       "\n",
       "       [[0.        ],\n",
       "        [0.        ],\n",
       "        [0.        ],\n",
       "        [0.        ],\n",
       "        [0.        ],\n",
       "        [0.        ],\n",
       "        [0.        ],\n",
       "        [0.        ],\n",
       "        [0.        ],\n",
       "        [0.        ],\n",
       "        [0.07843137],\n",
       "        [0.79607843],\n",
       "        [0.99215686],\n",
       "        [0.97254902],\n",
       "        [0.29803922],\n",
       "        [0.        ],\n",
       "        [0.        ],\n",
       "        [0.        ],\n",
       "        [0.        ],\n",
       "        [0.        ],\n",
       "        [0.        ],\n",
       "        [0.        ],\n",
       "        [0.        ],\n",
       "        [0.        ],\n",
       "        [0.        ],\n",
       "        [0.        ],\n",
       "        [0.        ],\n",
       "        [0.        ]],\n",
       "\n",
       "       [[0.        ],\n",
       "        [0.        ],\n",
       "        [0.        ],\n",
       "        [0.        ],\n",
       "        [0.        ],\n",
       "        [0.        ],\n",
       "        [0.        ],\n",
       "        [0.        ],\n",
       "        [0.        ],\n",
       "        [0.08627451],\n",
       "        [0.7372549 ],\n",
       "        [0.99215686],\n",
       "        [0.96078431],\n",
       "        [0.36470588],\n",
       "        [0.        ],\n",
       "        [0.        ],\n",
       "        [0.        ],\n",
       "        [0.        ],\n",
       "        [0.        ],\n",
       "        [0.        ],\n",
       "        [0.        ],\n",
       "        [0.        ],\n",
       "        [0.        ],\n",
       "        [0.        ],\n",
       "        [0.        ],\n",
       "        [0.        ],\n",
       "        [0.        ],\n",
       "        [0.        ]],\n",
       "\n",
       "       [[0.        ],\n",
       "        [0.        ],\n",
       "        [0.        ],\n",
       "        [0.        ],\n",
       "        [0.        ],\n",
       "        [0.        ],\n",
       "        [0.        ],\n",
       "        [0.        ],\n",
       "        [0.        ],\n",
       "        [0.40392157],\n",
       "        [0.99215686],\n",
       "        [0.99215686],\n",
       "        [0.74901961],\n",
       "        [0.        ],\n",
       "        [0.        ],\n",
       "        [0.        ],\n",
       "        [0.        ],\n",
       "        [0.        ],\n",
       "        [0.        ],\n",
       "        [0.        ],\n",
       "        [0.        ],\n",
       "        [0.        ],\n",
       "        [0.        ],\n",
       "        [0.        ],\n",
       "        [0.        ],\n",
       "        [0.        ],\n",
       "        [0.        ],\n",
       "        [0.        ]],\n",
       "\n",
       "       [[0.        ],\n",
       "        [0.        ],\n",
       "        [0.        ],\n",
       "        [0.        ],\n",
       "        [0.        ],\n",
       "        [0.        ],\n",
       "        [0.        ],\n",
       "        [0.        ],\n",
       "        [0.34901961],\n",
       "        [0.94117647],\n",
       "        [0.99215686],\n",
       "        [0.76470588],\n",
       "        [0.09803922],\n",
       "        [0.        ],\n",
       "        [0.        ],\n",
       "        [0.        ],\n",
       "        [0.        ],\n",
       "        [0.        ],\n",
       "        [0.        ],\n",
       "        [0.        ],\n",
       "        [0.        ],\n",
       "        [0.        ],\n",
       "        [0.        ],\n",
       "        [0.        ],\n",
       "        [0.        ],\n",
       "        [0.        ],\n",
       "        [0.        ],\n",
       "        [0.        ]],\n",
       "\n",
       "       [[0.        ],\n",
       "        [0.        ],\n",
       "        [0.        ],\n",
       "        [0.        ],\n",
       "        [0.        ],\n",
       "        [0.        ],\n",
       "        [0.        ],\n",
       "        [0.05882353],\n",
       "        [0.8627451 ],\n",
       "        [0.99215686],\n",
       "        [0.99215686],\n",
       "        [0.31372549],\n",
       "        [0.        ],\n",
       "        [0.        ],\n",
       "        [0.        ],\n",
       "        [0.        ],\n",
       "        [0.        ],\n",
       "        [0.        ],\n",
       "        [0.        ],\n",
       "        [0.        ],\n",
       "        [0.        ],\n",
       "        [0.        ],\n",
       "        [0.        ],\n",
       "        [0.        ],\n",
       "        [0.        ],\n",
       "        [0.        ],\n",
       "        [0.        ],\n",
       "        [0.        ]],\n",
       "\n",
       "       [[0.        ],\n",
       "        [0.        ],\n",
       "        [0.        ],\n",
       "        [0.        ],\n",
       "        [0.        ],\n",
       "        [0.        ],\n",
       "        [0.        ],\n",
       "        [0.36862745],\n",
       "        [0.99215686],\n",
       "        [0.99215686],\n",
       "        [0.99215686],\n",
       "        [0.36862745],\n",
       "        [0.        ],\n",
       "        [0.        ],\n",
       "        [0.        ],\n",
       "        [0.        ],\n",
       "        [0.        ],\n",
       "        [0.        ],\n",
       "        [0.        ],\n",
       "        [0.        ],\n",
       "        [0.        ],\n",
       "        [0.        ],\n",
       "        [0.        ],\n",
       "        [0.        ],\n",
       "        [0.        ],\n",
       "        [0.        ],\n",
       "        [0.        ],\n",
       "        [0.        ]],\n",
       "\n",
       "       [[0.        ],\n",
       "        [0.        ],\n",
       "        [0.        ],\n",
       "        [0.        ],\n",
       "        [0.        ],\n",
       "        [0.        ],\n",
       "        [0.        ],\n",
       "        [0.34901961],\n",
       "        [0.98431373],\n",
       "        [0.99215686],\n",
       "        [0.98039216],\n",
       "        [0.51372549],\n",
       "        [0.        ],\n",
       "        [0.        ],\n",
       "        [0.        ],\n",
       "        [0.        ],\n",
       "        [0.        ],\n",
       "        [0.        ],\n",
       "        [0.        ],\n",
       "        [0.        ],\n",
       "        [0.        ],\n",
       "        [0.        ],\n",
       "        [0.        ],\n",
       "        [0.        ],\n",
       "        [0.        ],\n",
       "        [0.        ],\n",
       "        [0.        ],\n",
       "        [0.        ]],\n",
       "\n",
       "       [[0.        ],\n",
       "        [0.        ],\n",
       "        [0.        ],\n",
       "        [0.        ],\n",
       "        [0.        ],\n",
       "        [0.        ],\n",
       "        [0.        ],\n",
       "        [0.        ],\n",
       "        [0.83921569],\n",
       "        [0.85490196],\n",
       "        [0.37254902],\n",
       "        [0.        ],\n",
       "        [0.        ],\n",
       "        [0.        ],\n",
       "        [0.        ],\n",
       "        [0.        ],\n",
       "        [0.        ],\n",
       "        [0.        ],\n",
       "        [0.        ],\n",
       "        [0.        ],\n",
       "        [0.        ],\n",
       "        [0.        ],\n",
       "        [0.        ],\n",
       "        [0.        ],\n",
       "        [0.        ],\n",
       "        [0.        ],\n",
       "        [0.        ],\n",
       "        [0.        ]],\n",
       "\n",
       "       [[0.        ],\n",
       "        [0.        ],\n",
       "        [0.        ],\n",
       "        [0.        ],\n",
       "        [0.        ],\n",
       "        [0.        ],\n",
       "        [0.        ],\n",
       "        [0.        ],\n",
       "        [0.        ],\n",
       "        [0.        ],\n",
       "        [0.        ],\n",
       "        [0.        ],\n",
       "        [0.        ],\n",
       "        [0.        ],\n",
       "        [0.        ],\n",
       "        [0.        ],\n",
       "        [0.        ],\n",
       "        [0.        ],\n",
       "        [0.        ],\n",
       "        [0.        ],\n",
       "        [0.        ],\n",
       "        [0.        ],\n",
       "        [0.        ],\n",
       "        [0.        ],\n",
       "        [0.        ],\n",
       "        [0.        ],\n",
       "        [0.        ],\n",
       "        [0.        ]],\n",
       "\n",
       "       [[0.        ],\n",
       "        [0.        ],\n",
       "        [0.        ],\n",
       "        [0.        ],\n",
       "        [0.        ],\n",
       "        [0.        ],\n",
       "        [0.        ],\n",
       "        [0.        ],\n",
       "        [0.        ],\n",
       "        [0.        ],\n",
       "        [0.        ],\n",
       "        [0.        ],\n",
       "        [0.        ],\n",
       "        [0.        ],\n",
       "        [0.        ],\n",
       "        [0.        ],\n",
       "        [0.        ],\n",
       "        [0.        ],\n",
       "        [0.        ],\n",
       "        [0.        ],\n",
       "        [0.        ],\n",
       "        [0.        ],\n",
       "        [0.        ],\n",
       "        [0.        ],\n",
       "        [0.        ],\n",
       "        [0.        ],\n",
       "        [0.        ],\n",
       "        [0.        ]],\n",
       "\n",
       "       [[0.        ],\n",
       "        [0.        ],\n",
       "        [0.        ],\n",
       "        [0.        ],\n",
       "        [0.        ],\n",
       "        [0.        ],\n",
       "        [0.        ],\n",
       "        [0.        ],\n",
       "        [0.        ],\n",
       "        [0.        ],\n",
       "        [0.        ],\n",
       "        [0.        ],\n",
       "        [0.        ],\n",
       "        [0.        ],\n",
       "        [0.        ],\n",
       "        [0.        ],\n",
       "        [0.        ],\n",
       "        [0.        ],\n",
       "        [0.        ],\n",
       "        [0.        ],\n",
       "        [0.        ],\n",
       "        [0.        ],\n",
       "        [0.        ],\n",
       "        [0.        ],\n",
       "        [0.        ],\n",
       "        [0.        ],\n",
       "        [0.        ],\n",
       "        [0.        ]],\n",
       "\n",
       "       [[0.        ],\n",
       "        [0.        ],\n",
       "        [0.        ],\n",
       "        [0.        ],\n",
       "        [0.        ],\n",
       "        [0.        ],\n",
       "        [0.        ],\n",
       "        [0.        ],\n",
       "        [0.        ],\n",
       "        [0.        ],\n",
       "        [0.        ],\n",
       "        [0.        ],\n",
       "        [0.        ],\n",
       "        [0.        ],\n",
       "        [0.        ],\n",
       "        [0.        ],\n",
       "        [0.        ],\n",
       "        [0.        ],\n",
       "        [0.        ],\n",
       "        [0.        ],\n",
       "        [0.        ],\n",
       "        [0.        ],\n",
       "        [0.        ],\n",
       "        [0.        ],\n",
       "        [0.        ],\n",
       "        [0.        ],\n",
       "        [0.        ],\n",
       "        [0.        ]]])"
      ]
     },
     "execution_count": 23,
     "metadata": {},
     "output_type": "execute_result"
    }
   ],
   "source": [
    "X_scale[0]"
   ]
  },
  {
   "cell_type": "code",
   "execution_count": 24,
   "id": "9d662a20",
   "metadata": {
    "execution": {
     "iopub.execute_input": "2022-09-08T10:00:31.400288Z",
     "iopub.status.busy": "2022-09-08T10:00:31.399820Z",
     "iopub.status.idle": "2022-09-08T10:00:31.406280Z",
     "shell.execute_reply": "2022-09-08T10:00:31.405352Z"
    },
    "papermill": {
     "duration": 0.026867,
     "end_time": "2022-09-08T10:00:31.408537",
     "exception": false,
     "start_time": "2022-09-08T10:00:31.381670",
     "status": "completed"
    },
    "tags": []
   },
   "outputs": [],
   "source": [
    "y = to_categorical(y=y)"
   ]
  },
  {
   "cell_type": "code",
   "execution_count": 25,
   "id": "9a2c1a38",
   "metadata": {
    "execution": {
     "iopub.execute_input": "2022-09-08T10:00:31.447551Z",
     "iopub.status.busy": "2022-09-08T10:00:31.446384Z",
     "iopub.status.idle": "2022-09-08T10:00:31.454988Z",
     "shell.execute_reply": "2022-09-08T10:00:31.453893Z"
    },
    "papermill": {
     "duration": 0.031078,
     "end_time": "2022-09-08T10:00:31.457468",
     "exception": false,
     "start_time": "2022-09-08T10:00:31.426390",
     "status": "completed"
    },
    "tags": []
   },
   "outputs": [
    {
     "data": {
      "text/plain": [
       "array([[0., 1., 0., ..., 0., 0., 0.],\n",
       "       [1., 0., 0., ..., 0., 0., 0.],\n",
       "       [0., 1., 0., ..., 0., 0., 0.],\n",
       "       ...,\n",
       "       [0., 0., 0., ..., 1., 0., 0.],\n",
       "       [0., 0., 0., ..., 0., 0., 0.],\n",
       "       [0., 0., 0., ..., 0., 0., 1.]], dtype=float32)"
      ]
     },
     "execution_count": 25,
     "metadata": {},
     "output_type": "execute_result"
    }
   ],
   "source": [
    "y"
   ]
  },
  {
   "cell_type": "code",
   "execution_count": 26,
   "id": "927cb4c1",
   "metadata": {
    "execution": {
     "iopub.execute_input": "2022-09-08T10:00:31.496322Z",
     "iopub.status.busy": "2022-09-08T10:00:31.493636Z",
     "iopub.status.idle": "2022-09-08T10:00:31.501750Z",
     "shell.execute_reply": "2022-09-08T10:00:31.500465Z"
    },
    "papermill": {
     "duration": 0.030057,
     "end_time": "2022-09-08T10:00:31.504977",
     "exception": false,
     "start_time": "2022-09-08T10:00:31.474920",
     "status": "completed"
    },
    "tags": []
   },
   "outputs": [
    {
     "name": "stdout",
     "output_type": "stream",
     "text": [
      "X.shape=(42000, 28, 28, 1), Y.shape=(42000, 10)\n"
     ]
    }
   ],
   "source": [
    "print(f\"X.shape={X_scale.shape}, Y.shape={y.shape}\")"
   ]
  },
  {
   "cell_type": "markdown",
   "id": "5d3fab4d",
   "metadata": {
    "papermill": {
     "duration": 0.01873,
     "end_time": "2022-09-08T10:00:31.540759",
     "exception": false,
     "start_time": "2022-09-08T10:00:31.522029",
     "status": "completed"
    },
    "tags": []
   },
   "source": [
    "# Let's create Model"
   ]
  },
  {
   "cell_type": "code",
   "execution_count": 27,
   "id": "617e1e9e",
   "metadata": {
    "execution": {
     "iopub.execute_input": "2022-09-08T10:00:31.578155Z",
     "iopub.status.busy": "2022-09-08T10:00:31.577321Z",
     "iopub.status.idle": "2022-09-08T10:00:32.025685Z",
     "shell.execute_reply": "2022-09-08T10:00:32.024484Z"
    },
    "papermill": {
     "duration": 0.469718,
     "end_time": "2022-09-08T10:00:32.028392",
     "exception": false,
     "start_time": "2022-09-08T10:00:31.558674",
     "status": "completed"
    },
    "tags": []
   },
   "outputs": [],
   "source": [
    "# x_train, x_test, y_train, y_test = train_test_split(X_scale, y, train_size=0.8, random_state=2)\n",
    "\n",
    "x_train, x_test, y_train, y_test = train_test_split(X_scale, y, test_size=0.2, random_state=2)"
   ]
  },
  {
   "cell_type": "code",
   "execution_count": 28,
   "id": "a62013fb",
   "metadata": {
    "execution": {
     "iopub.execute_input": "2022-09-08T10:00:32.064570Z",
     "iopub.status.busy": "2022-09-08T10:00:32.064163Z",
     "iopub.status.idle": "2022-09-08T10:00:32.071491Z",
     "shell.execute_reply": "2022-09-08T10:00:32.070299Z"
    },
    "papermill": {
     "duration": 0.028548,
     "end_time": "2022-09-08T10:00:32.073850",
     "exception": false,
     "start_time": "2022-09-08T10:00:32.045302",
     "status": "completed"
    },
    "tags": []
   },
   "outputs": [
    {
     "data": {
      "text/plain": [
       "(33600, 28, 28, 1)"
      ]
     },
     "execution_count": 28,
     "metadata": {},
     "output_type": "execute_result"
    }
   ],
   "source": [
    "x_train.shape"
   ]
  },
  {
   "cell_type": "code",
   "execution_count": 29,
   "id": "c4d8f3d4",
   "metadata": {
    "execution": {
     "iopub.execute_input": "2022-09-08T10:00:32.112005Z",
     "iopub.status.busy": "2022-09-08T10:00:32.111132Z",
     "iopub.status.idle": "2022-09-08T10:00:32.306700Z",
     "shell.execute_reply": "2022-09-08T10:00:32.305250Z"
    },
    "papermill": {
     "duration": 0.219309,
     "end_time": "2022-09-08T10:00:32.310499",
     "exception": false,
     "start_time": "2022-09-08T10:00:32.091190",
     "status": "completed"
    },
    "tags": []
   },
   "outputs": [
    {
     "name": "stderr",
     "output_type": "stream",
     "text": [
      "2022-09-08 10:00:32.157264: I tensorflow/core/common_runtime/process_util.cc:146] Creating new thread pool with default inter op setting: 2. Tune using inter_op_parallelism_threads for best performance.\n"
     ]
    }
   ],
   "source": [
    "model = Sequential()\n",
    "\n",
    "model.add(layer=Conv2D(filters=16, kernel_size=(3,3), padding=\"same\", strides=(1,1), activation=\"relu\", input_shape=(28,28,1)))\n",
    "model.add(layer=Conv2D(filters=32, kernel_size=(3,3), padding=\"same\", strides=(1,1), activation=\"relu\"))\n",
    "model.add(layer=MaxPooling2D(pool_size=(2,2), strides=(2,2))) # pooled features size = 14 x 14 x 32\n",
    "model.add(layer=Conv2D(filters=64, kernel_size=(3,3), padding=\"same\", strides=(1,1), activation=\"relu\"))\n",
    "model.add(layer=MaxPooling2D(pool_size=(2,2), strides=(2,2))) # pooled features size = 7 x 7 x 64\n",
    "model.add(layer=Dropout(rate=0.3)) # to reduce the overfit condition\n",
    "model.add(layer=Flatten()) # to convert multidimantation to one dimantation for Dense layers\n",
    "model.add(layer=Dense(units=256, activation=\"relu\"))\n",
    "model.add(layer=Dropout(rate=0.1)) # to reduce the overfit condition\n",
    "model.add(layer=Dense(units=128, activation=\"relu\"))\n",
    "model.add(layer=Dense(units=10, activation=\"softmax\")) # For multi-class classification"
   ]
  },
  {
   "cell_type": "code",
   "execution_count": 30,
   "id": "8df9559e",
   "metadata": {
    "execution": {
     "iopub.execute_input": "2022-09-08T10:00:32.347577Z",
     "iopub.status.busy": "2022-09-08T10:00:32.346359Z",
     "iopub.status.idle": "2022-09-08T10:00:32.355077Z",
     "shell.execute_reply": "2022-09-08T10:00:32.353444Z"
    },
    "papermill": {
     "duration": 0.030533,
     "end_time": "2022-09-08T10:00:32.358733",
     "exception": false,
     "start_time": "2022-09-08T10:00:32.328200",
     "status": "completed"
    },
    "tags": []
   },
   "outputs": [
    {
     "name": "stdout",
     "output_type": "stream",
     "text": [
      "Model: \"sequential\"\n",
      "_________________________________________________________________\n",
      "Layer (type)                 Output Shape              Param #   \n",
      "=================================================================\n",
      "conv2d (Conv2D)              (None, 28, 28, 16)        160       \n",
      "_________________________________________________________________\n",
      "conv2d_1 (Conv2D)            (None, 28, 28, 32)        4640      \n",
      "_________________________________________________________________\n",
      "max_pooling2d (MaxPooling2D) (None, 14, 14, 32)        0         \n",
      "_________________________________________________________________\n",
      "conv2d_2 (Conv2D)            (None, 14, 14, 64)        18496     \n",
      "_________________________________________________________________\n",
      "max_pooling2d_1 (MaxPooling2 (None, 7, 7, 64)          0         \n",
      "_________________________________________________________________\n",
      "dropout (Dropout)            (None, 7, 7, 64)          0         \n",
      "_________________________________________________________________\n",
      "flatten (Flatten)            (None, 3136)              0         \n",
      "_________________________________________________________________\n",
      "dense (Dense)                (None, 256)               803072    \n",
      "_________________________________________________________________\n",
      "dropout_1 (Dropout)          (None, 256)               0         \n",
      "_________________________________________________________________\n",
      "dense_1 (Dense)              (None, 128)               32896     \n",
      "_________________________________________________________________\n",
      "dense_2 (Dense)              (None, 10)                1290      \n",
      "=================================================================\n",
      "Total params: 860,554\n",
      "Trainable params: 860,554\n",
      "Non-trainable params: 0\n",
      "_________________________________________________________________\n"
     ]
    }
   ],
   "source": [
    "model.summary()"
   ]
  },
  {
   "cell_type": "code",
   "execution_count": 31,
   "id": "02f2e382",
   "metadata": {
    "execution": {
     "iopub.execute_input": "2022-09-08T10:00:32.396461Z",
     "iopub.status.busy": "2022-09-08T10:00:32.396037Z",
     "iopub.status.idle": "2022-09-08T10:00:33.739827Z",
     "shell.execute_reply": "2022-09-08T10:00:33.738292Z"
    },
    "papermill": {
     "duration": 1.364964,
     "end_time": "2022-09-08T10:00:33.742235",
     "exception": false,
     "start_time": "2022-09-08T10:00:32.377271",
     "status": "completed"
    },
    "tags": []
   },
   "outputs": [
    {
     "data": {
      "image/png": "[encoded data removed]",
      "text/plain": [
       "<IPython.core.display.Image object>"
      ]
     },
     "execution_count": 31,
     "metadata": {},
     "output_type": "execute_result"
    }
   ],
   "source": [
    "# tf.keras.utils.plot_model(model=model, show_shapes=True, show_dtype=True,expand_nested=True)\n",
    "\n",
    "tf.keras.utils.plot_model(model=model, show_shapes=True, show_dtype=True)"
   ]
  },
  {
   "cell_type": "code",
   "execution_count": 32,
   "id": "06c4b819",
   "metadata": {
    "execution": {
     "iopub.execute_input": "2022-09-08T10:00:33.785129Z",
     "iopub.status.busy": "2022-09-08T10:00:33.784363Z",
     "iopub.status.idle": "2022-09-08T10:00:33.790369Z",
     "shell.execute_reply": "2022-09-08T10:00:33.789347Z"
    },
    "papermill": {
     "duration": 0.029969,
     "end_time": "2022-09-08T10:00:33.792914",
     "exception": false,
     "start_time": "2022-09-08T10:00:33.762945",
     "status": "completed"
    },
    "tags": []
   },
   "outputs": [],
   "source": [
    "from tensorflow.keras import optimizers\n",
    "from tensorflow.keras import losses"
   ]
  },
  {
   "cell_type": "code",
   "execution_count": 33,
   "id": "bb77c8df",
   "metadata": {
    "execution": {
     "iopub.execute_input": "2022-09-08T10:00:33.833645Z",
     "iopub.status.busy": "2022-09-08T10:00:33.832856Z",
     "iopub.status.idle": "2022-09-08T10:00:33.852410Z",
     "shell.execute_reply": "2022-09-08T10:00:33.851502Z"
    },
    "papermill": {
     "duration": 0.042692,
     "end_time": "2022-09-08T10:00:33.854887",
     "exception": false,
     "start_time": "2022-09-08T10:00:33.812195",
     "status": "completed"
    },
    "tags": []
   },
   "outputs": [],
   "source": [
    "# model.compile(optimizer=\"Adam\", loss=\"binary_crossentropy\", metrics=['accuracy'])\n",
    "# model.compile(optimizer=\"Adam\", loss=\"categorical_crossentropy\", metrics=['accuracy'])\n",
    "\n",
    "model.compile(optimizer=optimizers.Adam(), loss=losses.BinaryCrossentropy(), metrics=['accuracy'])\n",
    "\n",
    "# model.compile(optimizer=optimizers.Adam(), loss=losses.CategoricalCrossentropy(), metrics=['accuracy'])"
   ]
  },
  {
   "cell_type": "code",
   "execution_count": 34,
   "id": "4491801c",
   "metadata": {
    "execution": {
     "iopub.execute_input": "2022-09-08T10:00:33.895404Z",
     "iopub.status.busy": "2022-09-08T10:00:33.894619Z",
     "iopub.status.idle": "2022-09-08T10:06:37.770602Z",
     "shell.execute_reply": "2022-09-08T10:06:37.768771Z"
    },
    "papermill": {
     "duration": 363.900233,
     "end_time": "2022-09-08T10:06:37.774246",
     "exception": false,
     "start_time": "2022-09-08T10:00:33.874013",
     "status": "completed"
    },
    "tags": []
   },
   "outputs": [
    {
     "name": "stderr",
     "output_type": "stream",
     "text": [
      "2022-09-08 10:00:34.123095: I tensorflow/compiler/mlir/mlir_graph_optimization_pass.cc:185] None of the MLIR Optimization Passes are enabled (registered 2)\n"
     ]
    },
    {
     "name": "stdout",
     "output_type": "stream",
     "text": [
      "Epoch 1/15\n",
      "840/840 [==============================] - 27s 31ms/step - loss: 0.0504 - accuracy: 0.9082 - val_loss: 0.0114 - val_accuracy: 0.9815\n",
      "Epoch 2/15\n",
      "840/840 [==============================] - 24s 28ms/step - loss: 0.0124 - accuracy: 0.9805 - val_loss: 0.0090 - val_accuracy: 0.9859\n",
      "Epoch 3/15\n",
      "840/840 [==============================] - 24s 29ms/step - loss: 0.0087 - accuracy: 0.9867 - val_loss: 0.0078 - val_accuracy: 0.9879\n",
      "Epoch 4/15\n",
      "840/840 [==============================] - 24s 29ms/step - loss: 0.0066 - accuracy: 0.9897 - val_loss: 0.0074 - val_accuracy: 0.9891\n",
      "Epoch 5/15\n",
      "840/840 [==============================] - 24s 29ms/step - loss: 0.0059 - accuracy: 0.9909 - val_loss: 0.0083 - val_accuracy: 0.9881\n",
      "Epoch 6/15\n",
      "840/840 [==============================] - 25s 30ms/step - loss: 0.0046 - accuracy: 0.9934 - val_loss: 0.0099 - val_accuracy: 0.9853\n",
      "Epoch 7/15\n",
      "840/840 [==============================] - 24s 29ms/step - loss: 0.0040 - accuracy: 0.9937 - val_loss: 0.0088 - val_accuracy: 0.9882\n",
      "Epoch 8/15\n",
      "840/840 [==============================] - 25s 30ms/step - loss: 0.0040 - accuracy: 0.9940 - val_loss: 0.0074 - val_accuracy: 0.9903\n",
      "Epoch 9/15\n",
      "840/840 [==============================] - 25s 29ms/step - loss: 0.0028 - accuracy: 0.9956 - val_loss: 0.0087 - val_accuracy: 0.9900\n",
      "Epoch 10/15\n",
      "840/840 [==============================] - 24s 28ms/step - loss: 0.0031 - accuracy: 0.9953 - val_loss: 0.0095 - val_accuracy: 0.9868\n",
      "Epoch 11/15\n",
      "840/840 [==============================] - 23s 28ms/step - loss: 0.0027 - accuracy: 0.9953 - val_loss: 0.0078 - val_accuracy: 0.9896\n",
      "Epoch 12/15\n",
      "840/840 [==============================] - 24s 28ms/step - loss: 0.0024 - accuracy: 0.9961 - val_loss: 0.0099 - val_accuracy: 0.9891\n",
      "Epoch 13/15\n",
      "840/840 [==============================] - 24s 28ms/step - loss: 0.0024 - accuracy: 0.9965 - val_loss: 0.0077 - val_accuracy: 0.9909\n",
      "Epoch 14/15\n",
      "840/840 [==============================] - 24s 28ms/step - loss: 0.0027 - accuracy: 0.9958 - val_loss: 0.0087 - val_accuracy: 0.9882\n",
      "Epoch 15/15\n",
      "840/840 [==============================] - 23s 27ms/step - loss: 0.0021 - accuracy: 0.9968 - val_loss: 0.0087 - val_accuracy: 0.9888\n"
     ]
    }
   ],
   "source": [
    "history = model.fit(x=x_train, y=y_train, epochs=15, validation_split=0.2)"
   ]
  },
  {
   "cell_type": "code",
   "execution_count": 35,
   "id": "884892c7",
   "metadata": {
    "execution": {
     "iopub.execute_input": "2022-09-08T10:06:38.606147Z",
     "iopub.status.busy": "2022-09-08T10:06:38.605041Z",
     "iopub.status.idle": "2022-09-08T10:06:42.020351Z",
     "shell.execute_reply": "2022-09-08T10:06:42.018798Z"
    },
    "papermill": {
     "duration": 3.864886,
     "end_time": "2022-09-08T10:06:42.023657",
     "exception": false,
     "start_time": "2022-09-08T10:06:38.158771",
     "status": "completed"
    },
    "tags": []
   },
   "outputs": [
    {
     "name": "stdout",
     "output_type": "stream",
     "text": [
      "263/263 [==============================] - 3s 12ms/step - loss: 0.0087 - accuracy: 0.9898\n"
     ]
    }
   ],
   "source": [
    "score = model.evaluate(x=x_test, y=y_test)"
   ]
  },
  {
   "cell_type": "code",
   "execution_count": 36,
   "id": "557c9598",
   "metadata": {
    "execution": {
     "iopub.execute_input": "2022-09-08T10:06:42.797316Z",
     "iopub.status.busy": "2022-09-08T10:06:42.796563Z",
     "iopub.status.idle": "2022-09-08T10:06:42.802573Z",
     "shell.execute_reply": "2022-09-08T10:06:42.801425Z"
    },
    "papermill": {
     "duration": 0.391475,
     "end_time": "2022-09-08T10:06:42.805246",
     "exception": false,
     "start_time": "2022-09-08T10:06:42.413771",
     "status": "completed"
    },
    "tags": []
   },
   "outputs": [
    {
     "name": "stdout",
     "output_type": "stream",
     "text": [
      "Test loss: 0.008668787777423859\n",
      "Test accuracy: 0.9897618889808655\n"
     ]
    }
   ],
   "source": [
    "print('Test loss:', score[0])\n",
    "print('Test accuracy:', score[1])"
   ]
  },
  {
   "cell_type": "code",
   "execution_count": 37,
   "id": "aa5a026c",
   "metadata": {
    "execution": {
     "iopub.execute_input": "2022-09-08T10:06:43.575291Z",
     "iopub.status.busy": "2022-09-08T10:06:43.574096Z",
     "iopub.status.idle": "2022-09-08T10:06:45.597442Z",
     "shell.execute_reply": "2022-09-08T10:06:45.596186Z"
    },
    "papermill": {
     "duration": 2.406052,
     "end_time": "2022-09-08T10:06:45.600325",
     "exception": false,
     "start_time": "2022-09-08T10:06:43.194273",
     "status": "completed"
    },
    "tags": []
   },
   "outputs": [],
   "source": [
    "y_pred = model.predict(x=x_test)"
   ]
  },
  {
   "cell_type": "code",
   "execution_count": 38,
   "id": "010d3235",
   "metadata": {
    "execution": {
     "iopub.execute_input": "2022-09-08T10:06:46.427699Z",
     "iopub.status.busy": "2022-09-08T10:06:46.426576Z",
     "iopub.status.idle": "2022-09-08T10:06:46.434338Z",
     "shell.execute_reply": "2022-09-08T10:06:46.433269Z"
    },
    "papermill": {
     "duration": 0.393751,
     "end_time": "2022-09-08T10:06:46.436906",
     "exception": false,
     "start_time": "2022-09-08T10:06:46.043155",
     "status": "completed"
    },
    "tags": []
   },
   "outputs": [
    {
     "data": {
      "text/plain": [
       "array([[9.28941819e-19, 7.18709834e-20, 4.64056026e-24, ...,\n",
       "        1.24413746e-27, 1.24478376e-26, 1.77841408e-22],\n",
       "       [3.86121968e-14, 3.98404445e-15, 7.17798217e-14, ...,\n",
       "        1.07255507e-11, 5.14930763e-12, 1.00000000e+00],\n",
       "       [1.31303189e-30, 3.93718436e-27, 3.05917541e-29, ...,\n",
       "        1.91469617e-30, 1.02025344e-28, 2.05176562e-22],\n",
       "       ...,\n",
       "       [4.31548130e-28, 1.34807771e-22, 8.25050146e-25, ...,\n",
       "        3.15192656e-23, 2.12587267e-27, 7.05347221e-26],\n",
       "       [1.00194664e-09, 1.56063565e-11, 9.36104560e-15, ...,\n",
       "        1.50601876e-15, 4.41166819e-15, 3.92177068e-14],\n",
       "       [5.73281194e-19, 1.01764660e-18, 3.44646457e-18, ...,\n",
       "        4.78534365e-18, 4.24382102e-17, 1.00000000e+00]], dtype=float32)"
      ]
     },
     "execution_count": 38,
     "metadata": {},
     "output_type": "execute_result"
    }
   ],
   "source": [
    "y_pred"
   ]
  },
  {
   "cell_type": "code",
   "execution_count": 39,
   "id": "0369470a",
   "metadata": {
    "execution": {
     "iopub.execute_input": "2022-09-08T10:06:47.198065Z",
     "iopub.status.busy": "2022-09-08T10:06:47.197050Z",
     "iopub.status.idle": "2022-09-08T10:06:47.204626Z",
     "shell.execute_reply": "2022-09-08T10:06:47.203401Z"
    },
    "papermill": {
     "duration": 0.390495,
     "end_time": "2022-09-08T10:06:47.206783",
     "exception": false,
     "start_time": "2022-09-08T10:06:46.816288",
     "status": "completed"
    },
    "tags": []
   },
   "outputs": [
    {
     "data": {
      "text/plain": [
       "array([6, 9, 5, ..., 3, 6, 9])"
      ]
     },
     "execution_count": 39,
     "metadata": {},
     "output_type": "execute_result"
    }
   ],
   "source": [
    "y_pred_labels = np.argmax(y_pred, axis=1)\n",
    "y_pred_labels"
   ]
  },
  {
   "cell_type": "code",
   "execution_count": 40,
   "id": "e30d23d5",
   "metadata": {
    "execution": {
     "iopub.execute_input": "2022-09-08T10:06:48.023406Z",
     "iopub.status.busy": "2022-09-08T10:06:48.022675Z",
     "iopub.status.idle": "2022-09-08T10:06:48.029984Z",
     "shell.execute_reply": "2022-09-08T10:06:48.029032Z"
    },
    "papermill": {
     "duration": 0.44827,
     "end_time": "2022-09-08T10:06:48.032348",
     "exception": false,
     "start_time": "2022-09-08T10:06:47.584078",
     "status": "completed"
    },
    "tags": []
   },
   "outputs": [
    {
     "data": {
      "text/plain": [
       "array([[0., 0., 0., ..., 0., 0., 0.],\n",
       "       [0., 0., 0., ..., 0., 0., 1.],\n",
       "       [0., 0., 0., ..., 0., 0., 0.],\n",
       "       ...,\n",
       "       [0., 0., 0., ..., 0., 0., 0.],\n",
       "       [0., 0., 0., ..., 0., 0., 0.],\n",
       "       [0., 0., 0., ..., 0., 0., 1.]], dtype=float32)"
      ]
     },
     "execution_count": 40,
     "metadata": {},
     "output_type": "execute_result"
    }
   ],
   "source": [
    "y_test"
   ]
  },
  {
   "cell_type": "code",
   "execution_count": 41,
   "id": "bc1fb126",
   "metadata": {
    "execution": {
     "iopub.execute_input": "2022-09-08T10:06:48.797059Z",
     "iopub.status.busy": "2022-09-08T10:06:48.796295Z",
     "iopub.status.idle": "2022-09-08T10:06:48.804009Z",
     "shell.execute_reply": "2022-09-08T10:06:48.803159Z"
    },
    "papermill": {
     "duration": 0.393376,
     "end_time": "2022-09-08T10:06:48.806282",
     "exception": false,
     "start_time": "2022-09-08T10:06:48.412906",
     "status": "completed"
    },
    "tags": []
   },
   "outputs": [
    {
     "data": {
      "text/plain": [
       "array([6, 9, 5, ..., 3, 6, 9])"
      ]
     },
     "execution_count": 41,
     "metadata": {},
     "output_type": "execute_result"
    }
   ],
   "source": [
    "y_test_labels = np.argmax(y_test, axis=1)\n",
    "y_test_labels"
   ]
  },
  {
   "cell_type": "code",
   "execution_count": 42,
   "id": "e811034e",
   "metadata": {
    "execution": {
     "iopub.execute_input": "2022-09-08T10:06:49.627319Z",
     "iopub.status.busy": "2022-09-08T10:06:49.626891Z",
     "iopub.status.idle": "2022-09-08T10:06:49.853124Z",
     "shell.execute_reply": "2022-09-08T10:06:49.852182Z"
    },
    "papermill": {
     "duration": 0.604863,
     "end_time": "2022-09-08T10:06:49.855655",
     "exception": false,
     "start_time": "2022-09-08T10:06:49.250792",
     "status": "completed"
    },
    "tags": []
   },
   "outputs": [
    {
     "data": {
      "text/plain": [
       "<matplotlib.image.AxesImage at 0x7ff279d0ef90>"
      ]
     },
     "execution_count": 42,
     "metadata": {},
     "output_type": "execute_result"
    },
    {
     "data": {
      "image/png": "[encoded data removed]",
      "text/plain": [
       "<Figure size 432x288 with 1 Axes>"
      ]
     },
     "metadata": {
      "needs_background": "light"
     },
     "output_type": "display_data"
    }
   ],
   "source": [
    "plt.imshow(x_test[0].reshape(28,28))"
   ]
  },
  {
   "cell_type": "code",
   "execution_count": 43,
   "id": "0a29769b",
   "metadata": {
    "execution": {
     "iopub.execute_input": "2022-09-08T10:06:50.615828Z",
     "iopub.status.busy": "2022-09-08T10:06:50.615419Z",
     "iopub.status.idle": "2022-09-08T10:06:53.459591Z",
     "shell.execute_reply": "2022-09-08T10:06:53.458469Z"
    },
    "papermill": {
     "duration": 3.222433,
     "end_time": "2022-09-08T10:06:53.461976",
     "exception": false,
     "start_time": "2022-09-08T10:06:50.239543",
     "status": "completed"
    },
    "tags": []
   },
   "outputs": [
    {
     "data": {
      "image/png": "[encoded data removed]",
      "text/plain": [
       "<Figure size 1296x1800 with 20 Axes>"
      ]
     },
     "metadata": {
      "needs_background": "light"
     },
     "output_type": "display_data"
    }
   ],
   "source": [
    "# compare our result\n",
    "\n",
    "fig, axis = plt.subplots(5, 4, figsize=(18,25))\n",
    "\n",
    "for i, ax in enumerate(axis.flat):\n",
    "    ax.imshow(x_test[i].reshape(28,28), cmap=\"binary\")\n",
    "    ax.set(title=\"Predicted digit: {0}\\nActual digit: {1}\".format(y_pred_labels[i], y_test_labels[i]))"
   ]
  },
  {
   "cell_type": "code",
   "execution_count": 44,
   "id": "2a71d9be",
   "metadata": {
    "execution": {
     "iopub.execute_input": "2022-09-08T10:06:54.283419Z",
     "iopub.status.busy": "2022-09-08T10:06:54.282849Z",
     "iopub.status.idle": "2022-09-08T10:06:54.287217Z",
     "shell.execute_reply": "2022-09-08T10:06:54.286359Z"
    },
    "papermill": {
     "duration": 0.38898,
     "end_time": "2022-09-08T10:06:54.289367",
     "exception": false,
     "start_time": "2022-09-08T10:06:53.900387",
     "status": "completed"
    },
    "tags": []
   },
   "outputs": [],
   "source": [
    "from sklearn.metrics import confusion_matrix"
   ]
  },
  {
   "cell_type": "code",
   "execution_count": 45,
   "id": "206edfcf",
   "metadata": {
    "execution": {
     "iopub.execute_input": "2022-09-08T10:06:55.048281Z",
     "iopub.status.busy": "2022-09-08T10:06:55.047671Z",
     "iopub.status.idle": "2022-09-08T10:06:55.649034Z",
     "shell.execute_reply": "2022-09-08T10:06:55.648116Z"
    },
    "papermill": {
     "duration": 0.984657,
     "end_time": "2022-09-08T10:06:55.651389",
     "exception": false,
     "start_time": "2022-09-08T10:06:54.666732",
     "status": "completed"
    },
    "tags": []
   },
   "outputs": [
    {
     "data": {
      "image/png": "[encoded data removed]",
      "text/plain": [
       "<Figure size 864x576 with 2 Axes>"
      ]
     },
     "metadata": {
      "needs_background": "light"
     },
     "output_type": "display_data"
    }
   ],
   "source": [
    "cm = confusion_matrix(y_true=y_test_labels, y_pred=y_pred_labels)\n",
    "\n",
    "plt.figure(figsize=(12, 8))\n",
    "sns.heatmap(data=cm, annot=True, fmt='.0f')\n",
    "plt.xlabel(\"Predicted Digits\")\n",
    "plt.ylabel(\"True Digits\")\n",
    "plt.show()"
   ]
  },
  {
   "cell_type": "code",
   "execution_count": 46,
   "id": "a7057d5d",
   "metadata": {
    "execution": {
     "iopub.execute_input": "2022-09-08T10:06:56.467813Z",
     "iopub.status.busy": "2022-09-08T10:06:56.467047Z",
     "iopub.status.idle": "2022-09-08T10:06:57.928431Z",
     "shell.execute_reply": "2022-09-08T10:06:57.926852Z"
    },
    "papermill": {
     "duration": 1.84524,
     "end_time": "2022-09-08T10:06:57.931027",
     "exception": false,
     "start_time": "2022-09-08T10:06:56.085787",
     "status": "completed"
    },
    "tags": []
   },
   "outputs": [
    {
     "name": "stdout",
     "output_type": "stream",
     "text": [
      "(28000, 784)\n",
      "(28000, 28, 28, 1)\n"
     ]
    }
   ],
   "source": [
    "df_test = pd.read_csv(\"/kaggle/input/digit-recognizer/test.csv\", sep=\",\", header=0)\n",
    "values = df_test.values\n",
    "test_X_flat = df_test.values\n",
    "test_X_flat = test_X_flat / 256\n",
    "print(f\"{test_X_flat.shape}\")\n",
    "real_test_X = test_X_flat.reshape((-1, dim, dim, 1))\n",
    "print(f\"{real_test_X.shape}\")"
   ]
  },
  {
   "cell_type": "markdown",
   "id": "da0ec286",
   "metadata": {
    "papermill": {
     "duration": 0.37756,
     "end_time": "2022-09-08T10:06:58.686880",
     "exception": false,
     "start_time": "2022-09-08T10:06:58.309320",
     "status": "completed"
    },
    "tags": []
   },
   "source": [
    "# Let's test our model with the test datasets"
   ]
  },
  {
   "cell_type": "code",
   "execution_count": 47,
   "id": "9abbeb31",
   "metadata": {
    "execution": {
     "iopub.execute_input": "2022-09-08T10:06:59.502752Z",
     "iopub.status.busy": "2022-09-08T10:06:59.502031Z",
     "iopub.status.idle": "2022-09-08T10:06:59.606836Z",
     "shell.execute_reply": "2022-09-08T10:06:59.605621Z"
    },
    "papermill": {
     "duration": 0.541338,
     "end_time": "2022-09-08T10:06:59.609586",
     "exception": false,
     "start_time": "2022-09-08T10:06:59.068248",
     "status": "completed"
    },
    "tags": []
   },
   "outputs": [],
   "source": [
    "test_x = test_df.values / 255."
   ]
  },
  {
   "cell_type": "code",
   "execution_count": 48,
   "id": "41d85ea6",
   "metadata": {
    "execution": {
     "iopub.execute_input": "2022-09-08T10:07:00.365546Z",
     "iopub.status.busy": "2022-09-08T10:07:00.365062Z",
     "iopub.status.idle": "2022-09-08T10:07:00.371608Z",
     "shell.execute_reply": "2022-09-08T10:07:00.370693Z"
    },
    "papermill": {
     "duration": 0.387622,
     "end_time": "2022-09-08T10:07:00.373843",
     "exception": false,
     "start_time": "2022-09-08T10:06:59.986221",
     "status": "completed"
    },
    "tags": []
   },
   "outputs": [
    {
     "data": {
      "text/plain": [
       "array([[0., 0., 0., ..., 0., 0., 0.],\n",
       "       [0., 0., 0., ..., 0., 0., 0.],\n",
       "       [0., 0., 0., ..., 0., 0., 0.],\n",
       "       ...,\n",
       "       [0., 0., 0., ..., 0., 0., 0.],\n",
       "       [0., 0., 0., ..., 0., 0., 0.],\n",
       "       [0., 0., 0., ..., 0., 0., 0.]])"
      ]
     },
     "execution_count": 48,
     "metadata": {},
     "output_type": "execute_result"
    }
   ],
   "source": [
    "test_x"
   ]
  },
  {
   "cell_type": "code",
   "execution_count": 49,
   "id": "d700aaa5",
   "metadata": {
    "execution": {
     "iopub.execute_input": "2022-09-08T10:07:01.199286Z",
     "iopub.status.busy": "2022-09-08T10:07:01.198598Z",
     "iopub.status.idle": "2022-09-08T10:07:01.204018Z",
     "shell.execute_reply": "2022-09-08T10:07:01.203297Z"
    },
    "papermill": {
     "duration": 0.453106,
     "end_time": "2022-09-08T10:07:01.205953",
     "exception": false,
     "start_time": "2022-09-08T10:07:00.752847",
     "status": "completed"
    },
    "tags": []
   },
   "outputs": [
    {
     "data": {
      "text/plain": [
       "(28000, 784)"
      ]
     },
     "execution_count": 49,
     "metadata": {},
     "output_type": "execute_result"
    }
   ],
   "source": [
    "test_x.shape"
   ]
  },
  {
   "cell_type": "code",
   "execution_count": 50,
   "id": "03e6fae7",
   "metadata": {
    "execution": {
     "iopub.execute_input": "2022-09-08T10:07:01.965830Z",
     "iopub.status.busy": "2022-09-08T10:07:01.965411Z",
     "iopub.status.idle": "2022-09-08T10:07:01.972212Z",
     "shell.execute_reply": "2022-09-08T10:07:01.971339Z"
    },
    "papermill": {
     "duration": 0.391077,
     "end_time": "2022-09-08T10:07:01.974151",
     "exception": false,
     "start_time": "2022-09-08T10:07:01.583074",
     "status": "completed"
    },
    "tags": []
   },
   "outputs": [
    {
     "data": {
      "text/plain": [
       "(28000, 28, 28, 1)"
      ]
     },
     "execution_count": 50,
     "metadata": {},
     "output_type": "execute_result"
    }
   ],
   "source": [
    "test_x = test_x.reshape(-1, dim, dim, 1)\n",
    "test_x.shape"
   ]
  },
  {
   "cell_type": "code",
   "execution_count": 51,
   "id": "f933a769",
   "metadata": {
    "execution": {
     "iopub.execute_input": "2022-09-08T10:07:02.826267Z",
     "iopub.status.busy": "2022-09-08T10:07:02.825505Z",
     "iopub.status.idle": "2022-09-08T10:07:09.327058Z",
     "shell.execute_reply": "2022-09-08T10:07:09.326035Z"
    },
    "papermill": {
     "duration": 6.943436,
     "end_time": "2022-09-08T10:07:09.329665",
     "exception": false,
     "start_time": "2022-09-08T10:07:02.386229",
     "status": "completed"
    },
    "tags": []
   },
   "outputs": [],
   "source": [
    "test_pred = model.predict(x=test_x)"
   ]
  },
  {
   "cell_type": "code",
   "execution_count": 52,
   "id": "60f3e343",
   "metadata": {
    "execution": {
     "iopub.execute_input": "2022-09-08T10:07:10.089429Z",
     "iopub.status.busy": "2022-09-08T10:07:10.088952Z",
     "iopub.status.idle": "2022-09-08T10:07:10.096032Z",
     "shell.execute_reply": "2022-09-08T10:07:10.095122Z"
    },
    "papermill": {
     "duration": 0.389749,
     "end_time": "2022-09-08T10:07:10.098097",
     "exception": false,
     "start_time": "2022-09-08T10:07:09.708348",
     "status": "completed"
    },
    "tags": []
   },
   "outputs": [
    {
     "data": {
      "text/plain": [
       "array([[6.8739698e-23, 1.2543567e-24, 1.0000000e+00, ..., 4.0992070e-22,\n",
       "        5.7304421e-22, 1.3948613e-21],\n",
       "       [1.0000000e+00, 3.3826319e-16, 8.0719688e-16, ..., 3.5092091e-14,\n",
       "        6.1857327e-17, 1.5653220e-11],\n",
       "       [8.8282216e-19, 3.0023008e-18, 1.2556686e-16, ..., 3.6681705e-17,\n",
       "        7.0432867e-17, 1.0000000e+00],\n",
       "       ...,\n",
       "       [5.4978766e-28, 9.0340086e-23, 9.4188474e-25, ..., 8.8081886e-23,\n",
       "        1.5314365e-27, 8.8810572e-25],\n",
       "       [3.8243731e-11, 1.7374522e-11, 2.5761570e-11, ..., 2.1869118e-10,\n",
       "        6.0685616e-11, 1.0000000e+00],\n",
       "       [7.8269965e-23, 8.4194612e-24, 1.0000000e+00, ..., 3.7208717e-21,\n",
       "        1.7173063e-21, 3.2622580e-21]], dtype=float32)"
      ]
     },
     "execution_count": 52,
     "metadata": {},
     "output_type": "execute_result"
    }
   ],
   "source": [
    "test_pred"
   ]
  },
  {
   "cell_type": "code",
   "execution_count": 53,
   "id": "2573fa0f",
   "metadata": {
    "execution": {
     "iopub.execute_input": "2022-09-08T10:07:10.924613Z",
     "iopub.status.busy": "2022-09-08T10:07:10.924200Z",
     "iopub.status.idle": "2022-09-08T10:07:10.931519Z",
     "shell.execute_reply": "2022-09-08T10:07:10.930487Z"
    },
    "papermill": {
     "duration": 0.456218,
     "end_time": "2022-09-08T10:07:10.933755",
     "exception": false,
     "start_time": "2022-09-08T10:07:10.477537",
     "status": "completed"
    },
    "tags": []
   },
   "outputs": [
    {
     "data": {
      "text/plain": [
       "array([2, 0, 9, ..., 3, 9, 2])"
      ]
     },
     "execution_count": 53,
     "metadata": {},
     "output_type": "execute_result"
    }
   ],
   "source": [
    "test_pred_labels = np.argmax(test_pred, axis=1)\n",
    "test_pred_labels"
   ]
  },
  {
   "cell_type": "code",
   "execution_count": 54,
   "id": "656ca5e4",
   "metadata": {
    "execution": {
     "iopub.execute_input": "2022-09-08T10:07:11.756182Z",
     "iopub.status.busy": "2022-09-08T10:07:11.755763Z",
     "iopub.status.idle": "2022-09-08T10:07:11.762760Z",
     "shell.execute_reply": "2022-09-08T10:07:11.761668Z"
    },
    "papermill": {
     "duration": 0.42256,
     "end_time": "2022-09-08T10:07:11.765151",
     "exception": false,
     "start_time": "2022-09-08T10:07:11.342591",
     "status": "completed"
    },
    "tags": []
   },
   "outputs": [
    {
     "data": {
      "text/plain": [
       "(28000,)"
      ]
     },
     "execution_count": 54,
     "metadata": {},
     "output_type": "execute_result"
    }
   ],
   "source": [
    "test_pred_labels.shape"
   ]
  },
  {
   "cell_type": "code",
   "execution_count": 55,
   "id": "2b2817c4",
   "metadata": {
    "execution": {
     "iopub.execute_input": "2022-09-08T10:07:12.596405Z",
     "iopub.status.busy": "2022-09-08T10:07:12.595706Z",
     "iopub.status.idle": "2022-09-08T10:07:12.604894Z",
     "shell.execute_reply": "2022-09-08T10:07:12.604135Z"
    },
    "papermill": {
     "duration": 0.450329,
     "end_time": "2022-09-08T10:07:12.607010",
     "exception": false,
     "start_time": "2022-09-08T10:07:12.156681",
     "status": "completed"
    },
    "tags": []
   },
   "outputs": [
    {
     "data": {
      "text/html": [
       "<div>\n",
       "<style scoped>\n",
       "    .dataframe tbody tr th:only-of-type {\n",
       "        vertical-align: middle;\n",
       "    }\n",
       "\n",
       "    .dataframe tbody tr th {\n",
       "        vertical-align: top;\n",
       "    }\n",
       "\n",
       "    .dataframe thead th {\n",
       "        text-align: right;\n",
       "    }\n",
       "</style>\n",
       "<table border=\"1\" class=\"dataframe\">\n",
       "  <thead>\n",
       "    <tr style=\"text-align: right;\">\n",
       "      <th></th>\n",
       "      <th>ImageId</th>\n",
       "      <th>Label</th>\n",
       "    </tr>\n",
       "  </thead>\n",
       "  <tbody>\n",
       "    <tr>\n",
       "      <th>0</th>\n",
       "      <td>1</td>\n",
       "      <td>0</td>\n",
       "    </tr>\n",
       "    <tr>\n",
       "      <th>1</th>\n",
       "      <td>2</td>\n",
       "      <td>0</td>\n",
       "    </tr>\n",
       "    <tr>\n",
       "      <th>2</th>\n",
       "      <td>3</td>\n",
       "      <td>0</td>\n",
       "    </tr>\n",
       "    <tr>\n",
       "      <th>3</th>\n",
       "      <td>4</td>\n",
       "      <td>0</td>\n",
       "    </tr>\n",
       "    <tr>\n",
       "      <th>4</th>\n",
       "      <td>5</td>\n",
       "      <td>0</td>\n",
       "    </tr>\n",
       "  </tbody>\n",
       "</table>\n",
       "</div>"
      ],
      "text/plain": [
       "   ImageId  Label\n",
       "0        1      0\n",
       "1        2      0\n",
       "2        3      0\n",
       "3        4      0\n",
       "4        5      0"
      ]
     },
     "execution_count": 55,
     "metadata": {},
     "output_type": "execute_result"
    }
   ],
   "source": [
    "submission_df.head()"
   ]
  },
  {
   "cell_type": "code",
   "execution_count": 56,
   "id": "a3fbe38e",
   "metadata": {
    "execution": {
     "iopub.execute_input": "2022-09-08T10:07:13.420042Z",
     "iopub.status.busy": "2022-09-08T10:07:13.419352Z",
     "iopub.status.idle": "2022-09-08T10:07:13.425524Z",
     "shell.execute_reply": "2022-09-08T10:07:13.424719Z"
    },
    "papermill": {
     "duration": 0.439546,
     "end_time": "2022-09-08T10:07:13.427775",
     "exception": false,
     "start_time": "2022-09-08T10:07:12.988229",
     "status": "completed"
    },
    "tags": []
   },
   "outputs": [
    {
     "data": {
      "text/plain": [
       "(28000,)"
      ]
     },
     "execution_count": 56,
     "metadata": {},
     "output_type": "execute_result"
    }
   ],
   "source": [
    "submission_df['Label'].shape"
   ]
  },
  {
   "cell_type": "code",
   "execution_count": 57,
   "id": "db7decbb",
   "metadata": {
    "execution": {
     "iopub.execute_input": "2022-09-08T10:07:14.247455Z",
     "iopub.status.busy": "2022-09-08T10:07:14.246769Z",
     "iopub.status.idle": "2022-09-08T10:07:14.251501Z",
     "shell.execute_reply": "2022-09-08T10:07:14.250752Z"
    },
    "papermill": {
     "duration": 0.44398,
     "end_time": "2022-09-08T10:07:14.253571",
     "exception": false,
     "start_time": "2022-09-08T10:07:13.809591",
     "status": "completed"
    },
    "tags": []
   },
   "outputs": [],
   "source": [
    "submission_df['Label'] = test_pred_labels"
   ]
  },
  {
   "cell_type": "code",
   "execution_count": 58,
   "id": "eeec7a03",
   "metadata": {
    "execution": {
     "iopub.execute_input": "2022-09-08T10:07:15.013007Z",
     "iopub.status.busy": "2022-09-08T10:07:15.012392Z",
     "iopub.status.idle": "2022-09-08T10:07:15.021803Z",
     "shell.execute_reply": "2022-09-08T10:07:15.020810Z"
    },
    "papermill": {
     "duration": 0.391258,
     "end_time": "2022-09-08T10:07:15.023916",
     "exception": false,
     "start_time": "2022-09-08T10:07:14.632658",
     "status": "completed"
    },
    "tags": []
   },
   "outputs": [
    {
     "data": {
      "text/html": [
       "<div>\n",
       "<style scoped>\n",
       "    .dataframe tbody tr th:only-of-type {\n",
       "        vertical-align: middle;\n",
       "    }\n",
       "\n",
       "    .dataframe tbody tr th {\n",
       "        vertical-align: top;\n",
       "    }\n",
       "\n",
       "    .dataframe thead th {\n",
       "        text-align: right;\n",
       "    }\n",
       "</style>\n",
       "<table border=\"1\" class=\"dataframe\">\n",
       "  <thead>\n",
       "    <tr style=\"text-align: right;\">\n",
       "      <th></th>\n",
       "      <th>ImageId</th>\n",
       "      <th>Label</th>\n",
       "    </tr>\n",
       "  </thead>\n",
       "  <tbody>\n",
       "    <tr>\n",
       "      <th>0</th>\n",
       "      <td>1</td>\n",
       "      <td>2</td>\n",
       "    </tr>\n",
       "    <tr>\n",
       "      <th>1</th>\n",
       "      <td>2</td>\n",
       "      <td>0</td>\n",
       "    </tr>\n",
       "    <tr>\n",
       "      <th>2</th>\n",
       "      <td>3</td>\n",
       "      <td>9</td>\n",
       "    </tr>\n",
       "    <tr>\n",
       "      <th>3</th>\n",
       "      <td>4</td>\n",
       "      <td>9</td>\n",
       "    </tr>\n",
       "    <tr>\n",
       "      <th>4</th>\n",
       "      <td>5</td>\n",
       "      <td>3</td>\n",
       "    </tr>\n",
       "  </tbody>\n",
       "</table>\n",
       "</div>"
      ],
      "text/plain": [
       "   ImageId  Label\n",
       "0        1      2\n",
       "1        2      0\n",
       "2        3      9\n",
       "3        4      9\n",
       "4        5      3"
      ]
     },
     "execution_count": 58,
     "metadata": {},
     "output_type": "execute_result"
    }
   ],
   "source": [
    "submission_df.head()"
   ]
  },
  {
   "cell_type": "code",
   "execution_count": 59,
   "id": "beb3d425",
   "metadata": {
    "execution": {
     "iopub.execute_input": "2022-09-08T10:07:15.839806Z",
     "iopub.status.busy": "2022-09-08T10:07:15.838927Z",
     "iopub.status.idle": "2022-09-08T10:07:15.874053Z",
     "shell.execute_reply": "2022-09-08T10:07:15.873189Z"
    },
    "papermill": {
     "duration": 0.474879,
     "end_time": "2022-09-08T10:07:15.876745",
     "exception": false,
     "start_time": "2022-09-08T10:07:15.401866",
     "status": "completed"
    },
    "tags": []
   },
   "outputs": [],
   "source": [
    "submission_df.to_csv(\"submission.csv\", index=False)"
   ]
  }
 ],
 "metadata": {
  "kernelspec": {
   "display_name": "Python 3",
   "language": "python",
   "name": "python3"
  },
  "language_info": {
   "codemirror_mode": {
    "name": "ipython",
    "version": 3
   },
   "file_extension": ".py",
   "mimetype": "text/x-python",
   "name": "python",
   "nbconvert_exporter": "python",
   "pygments_lexer": "ipython3",
   "version": "3.7.12"
  },
  "papermill": {
   "default_parameters": {},
   "duration": 434.906512,
   "end_time": "2022-09-08T10:07:19.431462",
   "environment_variables": {},
   "exception": null,
   "input_path": "__notebook__.ipynb",
   "output_path": "__notebook__.ipynb",
   "parameters": {},
   "start_time": "2022-09-08T10:00:04.524950",
   "version": "2.3.4"
  }
 },
 "nbformat": 4,
 "nbformat_minor": 5
}
